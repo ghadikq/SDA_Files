{
  "nbformat": 4,
  "nbformat_minor": 0,
  "metadata": {
    "colab": {
      "name": "Ghadi_WeekendProject_01_case_study_setup.ipynb",
      "provenance": [],
      "collapsed_sections": [],
      "include_colab_link": true
    },
    "kernelspec": {
      "name": "python3",
      "display_name": "Python 3"
    }
  },
  "cells": [
    {
      "cell_type": "markdown",
      "metadata": {
        "id": "view-in-github",
        "colab_type": "text"
      },
      "source": [
        "<a href=\"https://colab.research.google.com/github/ghadikq/SDA_Files/blob/main/Ghadi_WeekendProject_01_case_study_setup.ipynb\" target=\"_parent\"><img src=\"https://colab.research.google.com/assets/colab-badge.svg\" alt=\"Open In Colab\"/></a>"
      ]
    },
    {
      "cell_type": "markdown",
      "metadata": {
        "id": "kxGAqx3XHWyC"
      },
      "source": [
        "# ML Week 1 Case Study\r\n",
        "[Customer churn](https://en.wikipedia.org/wiki/Churn_rate) - Predict customer retention. \r\n",
        "\r\n",
        "### Data\r\n",
        "- [churn_data.csv](https://raw.githubusercontent.com/gumdropsteve/intro_to_machine_learning/main/day_05/data/churn_data.csv)\r\n",
        "- [Data Dictionary](https://docs.google.com/document/d/1SxzoPHWxoLHx_kiPTZEzZOoda2chHbHLdMGAFsGIqCY/edit?usp=sharing)\r\n",
        "\r\n",
        "### Deleverables\r\n",
        "1. Analysis of customer data\r\n",
        "    - EDA, data viz, etc...\r\n",
        "2. Model to predict churn \r\n",
        "    - Classification - LogisticRegression\r\n",
        "    - How good is you model?\r\n",
        "        - precision, recall, etc...\r\n",
        "    - What are the best params?\r\n",
        "        - GridSearchCV, etc...\r\n",
        "3. Ideas for customer retention programs"
      ]
    },
    {
      "cell_type": "code",
      "metadata": {
        "colab": {
          "base_uri": "https://localhost:8080/",
          "height": 593
        },
        "id": "9RmIIfS6GloG",
        "outputId": "dfce28ae-fffb-4514-ce55-7a4642bcf9fe"
      },
      "source": [
        "import pandas as pd\r\n",
        "\r\n",
        "raw_link = 'https://github.com/gumdropsteve/intro_to_machine_learning/raw/main/day_05/data/churn_data.csv'\r\n",
        "\r\n",
        "df = pd.read_csv(raw_link)\r\n",
        "\r\n",
        "df"
      ],
      "execution_count": null,
      "outputs": [
        {
          "output_type": "execute_result",
          "data": {
            "text/html": [
              "<div>\n",
              "<style scoped>\n",
              "    .dataframe tbody tr th:only-of-type {\n",
              "        vertical-align: middle;\n",
              "    }\n",
              "\n",
              "    .dataframe tbody tr th {\n",
              "        vertical-align: top;\n",
              "    }\n",
              "\n",
              "    .dataframe thead th {\n",
              "        text-align: right;\n",
              "    }\n",
              "</style>\n",
              "<table border=\"1\" class=\"dataframe\">\n",
              "  <thead>\n",
              "    <tr style=\"text-align: right;\">\n",
              "      <th></th>\n",
              "      <th>customerID</th>\n",
              "      <th>gender</th>\n",
              "      <th>SeniorCitizen</th>\n",
              "      <th>Partner</th>\n",
              "      <th>Dependents</th>\n",
              "      <th>tenure</th>\n",
              "      <th>PhoneService</th>\n",
              "      <th>MultipleLines</th>\n",
              "      <th>InternetService</th>\n",
              "      <th>OnlineSecurity</th>\n",
              "      <th>OnlineBackup</th>\n",
              "      <th>DeviceProtection</th>\n",
              "      <th>TechSupport</th>\n",
              "      <th>StreamingTV</th>\n",
              "      <th>StreamingMovies</th>\n",
              "      <th>Contract</th>\n",
              "      <th>PaperlessBilling</th>\n",
              "      <th>PaymentMethod</th>\n",
              "      <th>MonthlyCharges</th>\n",
              "      <th>TotalCharges</th>\n",
              "      <th>Churn</th>\n",
              "    </tr>\n",
              "  </thead>\n",
              "  <tbody>\n",
              "    <tr>\n",
              "      <th>0</th>\n",
              "      <td>5087-SUURX</td>\n",
              "      <td>Female</td>\n",
              "      <td>0</td>\n",
              "      <td>Yes</td>\n",
              "      <td>No</td>\n",
              "      <td>18</td>\n",
              "      <td>No</td>\n",
              "      <td>No phone service</td>\n",
              "      <td>DSL</td>\n",
              "      <td>No</td>\n",
              "      <td>No</td>\n",
              "      <td>Yes</td>\n",
              "      <td>No</td>\n",
              "      <td>Yes</td>\n",
              "      <td>No</td>\n",
              "      <td>Month-to-month</td>\n",
              "      <td>Yes</td>\n",
              "      <td>Electronic check</td>\n",
              "      <td>39.05</td>\n",
              "      <td>669.85</td>\n",
              "      <td>Yes</td>\n",
              "    </tr>\n",
              "    <tr>\n",
              "      <th>1</th>\n",
              "      <td>1764-VUUMT</td>\n",
              "      <td>Male</td>\n",
              "      <td>0</td>\n",
              "      <td>No</td>\n",
              "      <td>Yes</td>\n",
              "      <td>66</td>\n",
              "      <td>Yes</td>\n",
              "      <td>No</td>\n",
              "      <td>No</td>\n",
              "      <td>No internet service</td>\n",
              "      <td>No internet service</td>\n",
              "      <td>No internet service</td>\n",
              "      <td>No internet service</td>\n",
              "      <td>No internet service</td>\n",
              "      <td>No internet service</td>\n",
              "      <td>Two year</td>\n",
              "      <td>No</td>\n",
              "      <td>Credit card (automatic)</td>\n",
              "      <td>19.95</td>\n",
              "      <td>1269.1</td>\n",
              "      <td>No</td>\n",
              "    </tr>\n",
              "    <tr>\n",
              "      <th>2</th>\n",
              "      <td>0089-IIQKO</td>\n",
              "      <td>Female</td>\n",
              "      <td>0</td>\n",
              "      <td>Yes</td>\n",
              "      <td>Yes</td>\n",
              "      <td>39</td>\n",
              "      <td>Yes</td>\n",
              "      <td>Yes</td>\n",
              "      <td>Fiber optic</td>\n",
              "      <td>No</td>\n",
              "      <td>No</td>\n",
              "      <td>No</td>\n",
              "      <td>Yes</td>\n",
              "      <td>Yes</td>\n",
              "      <td>Yes</td>\n",
              "      <td>Month-to-month</td>\n",
              "      <td>Yes</td>\n",
              "      <td>Credit card (automatic)</td>\n",
              "      <td>99.95</td>\n",
              "      <td>3767.4</td>\n",
              "      <td>No</td>\n",
              "    </tr>\n",
              "    <tr>\n",
              "      <th>3</th>\n",
              "      <td>1960-UYCNN</td>\n",
              "      <td>Male</td>\n",
              "      <td>0</td>\n",
              "      <td>No</td>\n",
              "      <td>No</td>\n",
              "      <td>10</td>\n",
              "      <td>Yes</td>\n",
              "      <td>Yes</td>\n",
              "      <td>Fiber optic</td>\n",
              "      <td>No</td>\n",
              "      <td>Yes</td>\n",
              "      <td>Yes</td>\n",
              "      <td>No</td>\n",
              "      <td>No</td>\n",
              "      <td>Yes</td>\n",
              "      <td>Month-to-month</td>\n",
              "      <td>Yes</td>\n",
              "      <td>Electronic check</td>\n",
              "      <td>95.25</td>\n",
              "      <td>1021.55</td>\n",
              "      <td>No</td>\n",
              "    </tr>\n",
              "    <tr>\n",
              "      <th>4</th>\n",
              "      <td>8224-IVVPA</td>\n",
              "      <td>Female</td>\n",
              "      <td>0</td>\n",
              "      <td>No</td>\n",
              "      <td>No</td>\n",
              "      <td>27</td>\n",
              "      <td>Yes</td>\n",
              "      <td>No</td>\n",
              "      <td>DSL</td>\n",
              "      <td>Yes</td>\n",
              "      <td>Yes</td>\n",
              "      <td>No</td>\n",
              "      <td>No</td>\n",
              "      <td>No</td>\n",
              "      <td>No</td>\n",
              "      <td>Month-to-month</td>\n",
              "      <td>Yes</td>\n",
              "      <td>Mailed check</td>\n",
              "      <td>56.70</td>\n",
              "      <td>1652.95</td>\n",
              "      <td>No</td>\n",
              "    </tr>\n",
              "    <tr>\n",
              "      <th>...</th>\n",
              "      <td>...</td>\n",
              "      <td>...</td>\n",
              "      <td>...</td>\n",
              "      <td>...</td>\n",
              "      <td>...</td>\n",
              "      <td>...</td>\n",
              "      <td>...</td>\n",
              "      <td>...</td>\n",
              "      <td>...</td>\n",
              "      <td>...</td>\n",
              "      <td>...</td>\n",
              "      <td>...</td>\n",
              "      <td>...</td>\n",
              "      <td>...</td>\n",
              "      <td>...</td>\n",
              "      <td>...</td>\n",
              "      <td>...</td>\n",
              "      <td>...</td>\n",
              "      <td>...</td>\n",
              "      <td>...</td>\n",
              "      <td>...</td>\n",
              "    </tr>\n",
              "    <tr>\n",
              "      <th>6333</th>\n",
              "      <td>5119-KEPFY</td>\n",
              "      <td>Male</td>\n",
              "      <td>0</td>\n",
              "      <td>Yes</td>\n",
              "      <td>No</td>\n",
              "      <td>36</td>\n",
              "      <td>Yes</td>\n",
              "      <td>Yes</td>\n",
              "      <td>Fiber optic</td>\n",
              "      <td>No</td>\n",
              "      <td>No</td>\n",
              "      <td>No</td>\n",
              "      <td>No</td>\n",
              "      <td>Yes</td>\n",
              "      <td>Yes</td>\n",
              "      <td>Month-to-month</td>\n",
              "      <td>Yes</td>\n",
              "      <td>Bank transfer (automatic)</td>\n",
              "      <td>95.00</td>\n",
              "      <td>3440.25</td>\n",
              "      <td>No</td>\n",
              "    </tr>\n",
              "    <tr>\n",
              "      <th>6334</th>\n",
              "      <td>6923-JHPMP</td>\n",
              "      <td>Female</td>\n",
              "      <td>0</td>\n",
              "      <td>No</td>\n",
              "      <td>No</td>\n",
              "      <td>2</td>\n",
              "      <td>Yes</td>\n",
              "      <td>No</td>\n",
              "      <td>Fiber optic</td>\n",
              "      <td>Yes</td>\n",
              "      <td>No</td>\n",
              "      <td>Yes</td>\n",
              "      <td>No</td>\n",
              "      <td>No</td>\n",
              "      <td>No</td>\n",
              "      <td>Month-to-month</td>\n",
              "      <td>Yes</td>\n",
              "      <td>Electronic check</td>\n",
              "      <td>80.45</td>\n",
              "      <td>137.1</td>\n",
              "      <td>No</td>\n",
              "    </tr>\n",
              "    <tr>\n",
              "      <th>6335</th>\n",
              "      <td>9924-JPRMC</td>\n",
              "      <td>Male</td>\n",
              "      <td>0</td>\n",
              "      <td>No</td>\n",
              "      <td>No</td>\n",
              "      <td>72</td>\n",
              "      <td>Yes</td>\n",
              "      <td>Yes</td>\n",
              "      <td>Fiber optic</td>\n",
              "      <td>Yes</td>\n",
              "      <td>Yes</td>\n",
              "      <td>Yes</td>\n",
              "      <td>Yes</td>\n",
              "      <td>Yes</td>\n",
              "      <td>Yes</td>\n",
              "      <td>Two year</td>\n",
              "      <td>Yes</td>\n",
              "      <td>Electronic check</td>\n",
              "      <td>118.20</td>\n",
              "      <td>8547.15</td>\n",
              "      <td>No</td>\n",
              "    </tr>\n",
              "    <tr>\n",
              "      <th>6336</th>\n",
              "      <td>4098-NAUKP</td>\n",
              "      <td>Male</td>\n",
              "      <td>1</td>\n",
              "      <td>Yes</td>\n",
              "      <td>Yes</td>\n",
              "      <td>68</td>\n",
              "      <td>Yes</td>\n",
              "      <td>Yes</td>\n",
              "      <td>Fiber optic</td>\n",
              "      <td>No</td>\n",
              "      <td>Yes</td>\n",
              "      <td>Yes</td>\n",
              "      <td>No</td>\n",
              "      <td>No</td>\n",
              "      <td>No</td>\n",
              "      <td>Month-to-month</td>\n",
              "      <td>Yes</td>\n",
              "      <td>Electronic check</td>\n",
              "      <td>84.65</td>\n",
              "      <td>5683.6</td>\n",
              "      <td>No</td>\n",
              "    </tr>\n",
              "    <tr>\n",
              "      <th>6337</th>\n",
              "      <td>1775-KWJKQ</td>\n",
              "      <td>Male</td>\n",
              "      <td>0</td>\n",
              "      <td>Yes</td>\n",
              "      <td>Yes</td>\n",
              "      <td>72</td>\n",
              "      <td>Yes</td>\n",
              "      <td>Yes</td>\n",
              "      <td>DSL</td>\n",
              "      <td>Yes</td>\n",
              "      <td>Yes</td>\n",
              "      <td>Yes</td>\n",
              "      <td>Yes</td>\n",
              "      <td>Yes</td>\n",
              "      <td>Yes</td>\n",
              "      <td>Two year</td>\n",
              "      <td>No</td>\n",
              "      <td>Credit card (automatic)</td>\n",
              "      <td>89.85</td>\n",
              "      <td>6562.9</td>\n",
              "      <td>No</td>\n",
              "    </tr>\n",
              "  </tbody>\n",
              "</table>\n",
              "<p>6338 rows × 21 columns</p>\n",
              "</div>"
            ],
            "text/plain": [
              "      customerID  gender  SeniorCitizen  ... MonthlyCharges TotalCharges  Churn\n",
              "0     5087-SUURX  Female              0  ...          39.05       669.85    Yes\n",
              "1     1764-VUUMT    Male              0  ...          19.95       1269.1     No\n",
              "2     0089-IIQKO  Female              0  ...          99.95       3767.4     No\n",
              "3     1960-UYCNN    Male              0  ...          95.25      1021.55     No\n",
              "4     8224-IVVPA  Female              0  ...          56.70      1652.95     No\n",
              "...          ...     ...            ...  ...            ...          ...    ...\n",
              "6333  5119-KEPFY    Male              0  ...          95.00      3440.25     No\n",
              "6334  6923-JHPMP  Female              0  ...          80.45        137.1     No\n",
              "6335  9924-JPRMC    Male              0  ...         118.20      8547.15     No\n",
              "6336  4098-NAUKP    Male              1  ...          84.65       5683.6     No\n",
              "6337  1775-KWJKQ    Male              0  ...          89.85       6562.9     No\n",
              "\n",
              "[6338 rows x 21 columns]"
            ]
          },
          "metadata": {
            "tags": []
          },
          "execution_count": 119
        }
      ]
    },
    {
      "cell_type": "markdown",
      "metadata": {
        "id": "pqDm7e6Fhwo7"
      },
      "source": [
        "# **Explor Data**"
      ]
    },
    {
      "cell_type": "code",
      "metadata": {
        "colab": {
          "base_uri": "https://localhost:8080/"
        },
        "id": "t8qBX39xht9S",
        "outputId": "3501983c-859b-4f2a-d273-356d01948f3c"
      },
      "source": [
        "df.info()"
      ],
      "execution_count": null,
      "outputs": [
        {
          "output_type": "stream",
          "text": [
            "<class 'pandas.core.frame.DataFrame'>\n",
            "RangeIndex: 6338 entries, 0 to 6337\n",
            "Data columns (total 21 columns):\n",
            " #   Column            Non-Null Count  Dtype  \n",
            "---  ------            --------------  -----  \n",
            " 0   customerID        6338 non-null   object \n",
            " 1   gender            6338 non-null   object \n",
            " 2   SeniorCitizen     6338 non-null   int64  \n",
            " 3   Partner           6338 non-null   object \n",
            " 4   Dependents        6338 non-null   object \n",
            " 5   tenure            6338 non-null   int64  \n",
            " 6   PhoneService      6338 non-null   object \n",
            " 7   MultipleLines     6338 non-null   object \n",
            " 8   InternetService   6338 non-null   object \n",
            " 9   OnlineSecurity    6338 non-null   object \n",
            " 10  OnlineBackup      6338 non-null   object \n",
            " 11  DeviceProtection  6338 non-null   object \n",
            " 12  TechSupport       6338 non-null   object \n",
            " 13  StreamingTV       6338 non-null   object \n",
            " 14  StreamingMovies   6338 non-null   object \n",
            " 15  Contract          6338 non-null   object \n",
            " 16  PaperlessBilling  6338 non-null   object \n",
            " 17  PaymentMethod     6338 non-null   object \n",
            " 18  MonthlyCharges    6338 non-null   float64\n",
            " 19  TotalCharges      6338 non-null   object \n",
            " 20  Churn             6338 non-null   object \n",
            "dtypes: float64(1), int64(2), object(18)\n",
            "memory usage: 1.0+ MB\n"
          ],
          "name": "stdout"
        }
      ]
    },
    {
      "cell_type": "code",
      "metadata": {
        "colab": {
          "base_uri": "https://localhost:8080/"
        },
        "id": "dm9s9QPVjhFV",
        "outputId": "d781cb70-7dc5-4205-ed44-b9e565aaa4de"
      },
      "source": [
        "df.shape"
      ],
      "execution_count": null,
      "outputs": [
        {
          "output_type": "execute_result",
          "data": {
            "text/plain": [
              "(6338, 21)"
            ]
          },
          "metadata": {
            "tags": []
          },
          "execution_count": 121
        }
      ]
    },
    {
      "cell_type": "markdown",
      "metadata": {
        "id": "pch0rdi-ksaR"
      },
      "source": [
        "## ***Check Predict Variable (Target)***"
      ]
    },
    {
      "cell_type": "code",
      "metadata": {
        "colab": {
          "base_uri": "https://localhost:8080/"
        },
        "id": "bCuQE-u8ks-a",
        "outputId": "68b5b86c-f3f6-4848-f668-d7b439660cc9"
      },
      "source": [
        "# see Churn values\r\n",
        "df.Churn.unique()"
      ],
      "execution_count": null,
      "outputs": [
        {
          "output_type": "execute_result",
          "data": {
            "text/plain": [
              "array(['Yes', 'No'], dtype=object)"
            ]
          },
          "metadata": {
            "tags": []
          },
          "execution_count": 122
        }
      ]
    },
    {
      "cell_type": "code",
      "metadata": {
        "colab": {
          "base_uri": "https://localhost:8080/",
          "height": 279
        },
        "id": "b9nMBdsmlVjX",
        "outputId": "d512d458-ba5d-496a-a1c6-6d86322dc828"
      },
      "source": [
        "import seaborn as sns\r\n",
        "import matplotlib.pyplot as plt \r\n",
        "\r\n",
        "sns.countplot(x='Churn', data=df ,palette='hls')\r\n",
        "plt.show()"
      ],
      "execution_count": null,
      "outputs": [
        {
          "output_type": "display_data",
          "data": {
            "image/png": "[encoded data removed]",
            "text/plain": [
              "<Figure size 432x288 with 1 Axes>"
            ]
          },
          "metadata": {
            "tags": [],
            "needs_background": "light"
          }
        }
      ]
    },
    {
      "cell_type": "code",
      "metadata": {
        "colab": {
          "base_uri": "https://localhost:8080/"
        },
        "id": "26QmO-gomAGL",
        "outputId": "3b258b33-b14b-4250-db77-f64840b11012"
      },
      "source": [
        "count_no_Churn = len(df[df['Churn']=='No'])\r\n",
        "count_Churn = len(df[df['Churn']=='Yes'])\r\n",
        "\r\n",
        "pct_of_no_Churn = count_no_Churn/(count_no_Churn + count_Churn)\r\n",
        "print(\"Percentage of no Churn is\", round(pct_of_no_Churn * 100) ,'%')\r\n",
        "\r\n",
        "pct_of_Churn = count_Churn/(count_no_Churn + count_Churn)\r\n",
        "print(\"Percentage of yes Churn\", round(pct_of_Churn*100) ,'%')"
      ],
      "execution_count": null,
      "outputs": [
        {
          "output_type": "stream",
          "text": [
            "Percentage of no Churn is 73 %\n",
            "Percentage of yes Churn 27 %\n"
          ],
          "name": "stdout"
        }
      ]
    },
    {
      "cell_type": "code",
      "metadata": {
        "colab": {
          "base_uri": "https://localhost:8080/",
          "height": 137
        },
        "id": "sQ72XdX8n3dJ",
        "outputId": "d844a6fc-5543-47e1-c9c1-feba4bf840bc"
      },
      "source": [
        "# See mean for numeric columns \r\n",
        "df.groupby('Churn').mean()"
      ],
      "execution_count": null,
      "outputs": [
        {
          "output_type": "execute_result",
          "data": {
            "text/html": [
              "<div>\n",
              "<style scoped>\n",
              "    .dataframe tbody tr th:only-of-type {\n",
              "        vertical-align: middle;\n",
              "    }\n",
              "\n",
              "    .dataframe tbody tr th {\n",
              "        vertical-align: top;\n",
              "    }\n",
              "\n",
              "    .dataframe thead th {\n",
              "        text-align: right;\n",
              "    }\n",
              "</style>\n",
              "<table border=\"1\" class=\"dataframe\">\n",
              "  <thead>\n",
              "    <tr style=\"text-align: right;\">\n",
              "      <th></th>\n",
              "      <th>SeniorCitizen</th>\n",
              "      <th>tenure</th>\n",
              "      <th>MonthlyCharges</th>\n",
              "    </tr>\n",
              "    <tr>\n",
              "      <th>Churn</th>\n",
              "      <th></th>\n",
              "      <th></th>\n",
              "      <th></th>\n",
              "    </tr>\n",
              "  </thead>\n",
              "  <tbody>\n",
              "    <tr>\n",
              "      <th>No</th>\n",
              "      <td>0.128817</td>\n",
              "      <td>37.498280</td>\n",
              "      <td>61.610935</td>\n",
              "    </tr>\n",
              "    <tr>\n",
              "      <th>Yes</th>\n",
              "      <td>0.252370</td>\n",
              "      <td>17.919431</td>\n",
              "      <td>74.273045</td>\n",
              "    </tr>\n",
              "  </tbody>\n",
              "</table>\n",
              "</div>"
            ],
            "text/plain": [
              "       SeniorCitizen     tenure  MonthlyCharges\n",
              "Churn                                          \n",
              "No          0.128817  37.498280       61.610935\n",
              "Yes         0.252370  17.919431       74.273045"
            ]
          },
          "metadata": {
            "tags": []
          },
          "execution_count": 125
        }
      ]
    },
    {
      "cell_type": "markdown",
      "metadata": {
        "id": "g6mPKjRuNKZM"
      },
      "source": [
        "# ***Clean Data Features***\r\n",
        "\r\n",
        "I used 3 different way to transform data values to numbers depending on data values \r\n",
        "\r\n",
        "\r\n",
        "*   Direct\r\n",
        "*   Use get_dummies\r\n",
        "*   Use feature_extraction \r\n",
        "\r\n"
      ]
    },
    {
      "cell_type": "code",
      "metadata": {
        "colab": {
          "base_uri": "https://localhost:8080/",
          "height": 204
        },
        "id": "JrJ4HAdi0YKE",
        "outputId": "b07e6a7e-4a06-4618-c74f-3623a1f9e5b8"
      },
      "source": [
        "df.describe(exclude='number')"
      ],
      "execution_count": null,
      "outputs": [
        {
          "output_type": "execute_result",
          "data": {
            "text/html": [
              "<div>\n",
              "<style scoped>\n",
              "    .dataframe tbody tr th:only-of-type {\n",
              "        vertical-align: middle;\n",
              "    }\n",
              "\n",
              "    .dataframe tbody tr th {\n",
              "        vertical-align: top;\n",
              "    }\n",
              "\n",
              "    .dataframe thead th {\n",
              "        text-align: right;\n",
              "    }\n",
              "</style>\n",
              "<table border=\"1\" class=\"dataframe\">\n",
              "  <thead>\n",
              "    <tr style=\"text-align: right;\">\n",
              "      <th></th>\n",
              "      <th>customerID</th>\n",
              "      <th>gender</th>\n",
              "      <th>Partner</th>\n",
              "      <th>Dependents</th>\n",
              "      <th>PhoneService</th>\n",
              "      <th>MultipleLines</th>\n",
              "      <th>InternetService</th>\n",
              "      <th>OnlineSecurity</th>\n",
              "      <th>OnlineBackup</th>\n",
              "      <th>DeviceProtection</th>\n",
              "      <th>TechSupport</th>\n",
              "      <th>StreamingTV</th>\n",
              "      <th>StreamingMovies</th>\n",
              "      <th>Contract</th>\n",
              "      <th>PaperlessBilling</th>\n",
              "      <th>PaymentMethod</th>\n",
              "      <th>TotalCharges</th>\n",
              "      <th>Churn</th>\n",
              "    </tr>\n",
              "  </thead>\n",
              "  <tbody>\n",
              "    <tr>\n",
              "      <th>count</th>\n",
              "      <td>6338</td>\n",
              "      <td>6338</td>\n",
              "      <td>6338</td>\n",
              "      <td>6338</td>\n",
              "      <td>6338</td>\n",
              "      <td>6338</td>\n",
              "      <td>6338</td>\n",
              "      <td>6338</td>\n",
              "      <td>6338</td>\n",
              "      <td>6338</td>\n",
              "      <td>6338</td>\n",
              "      <td>6338</td>\n",
              "      <td>6338</td>\n",
              "      <td>6338</td>\n",
              "      <td>6338</td>\n",
              "      <td>6338</td>\n",
              "      <td>6338</td>\n",
              "      <td>6338</td>\n",
              "    </tr>\n",
              "    <tr>\n",
              "      <th>unique</th>\n",
              "      <td>6338</td>\n",
              "      <td>2</td>\n",
              "      <td>2</td>\n",
              "      <td>2</td>\n",
              "      <td>2</td>\n",
              "      <td>3</td>\n",
              "      <td>3</td>\n",
              "      <td>3</td>\n",
              "      <td>3</td>\n",
              "      <td>3</td>\n",
              "      <td>3</td>\n",
              "      <td>3</td>\n",
              "      <td>3</td>\n",
              "      <td>3</td>\n",
              "      <td>2</td>\n",
              "      <td>4</td>\n",
              "      <td>5921</td>\n",
              "      <td>2</td>\n",
              "    </tr>\n",
              "    <tr>\n",
              "      <th>top</th>\n",
              "      <td>3272-VUHPV</td>\n",
              "      <td>Male</td>\n",
              "      <td>No</td>\n",
              "      <td>No</td>\n",
              "      <td>Yes</td>\n",
              "      <td>No</td>\n",
              "      <td>Fiber optic</td>\n",
              "      <td>No</td>\n",
              "      <td>No</td>\n",
              "      <td>No</td>\n",
              "      <td>No</td>\n",
              "      <td>No</td>\n",
              "      <td>No</td>\n",
              "      <td>Month-to-month</td>\n",
              "      <td>Yes</td>\n",
              "      <td>Electronic check</td>\n",
              "      <td>20.2</td>\n",
              "      <td>No</td>\n",
              "    </tr>\n",
              "    <tr>\n",
              "      <th>freq</th>\n",
              "      <td>1</td>\n",
              "      <td>3197</td>\n",
              "      <td>3267</td>\n",
              "      <td>4435</td>\n",
              "      <td>5717</td>\n",
              "      <td>3047</td>\n",
              "      <td>2796</td>\n",
              "      <td>3155</td>\n",
              "      <td>2804</td>\n",
              "      <td>2785</td>\n",
              "      <td>3126</td>\n",
              "      <td>2529</td>\n",
              "      <td>2517</td>\n",
              "      <td>3503</td>\n",
              "      <td>3769</td>\n",
              "      <td>2150</td>\n",
              "      <td>11</td>\n",
              "      <td>4650</td>\n",
              "    </tr>\n",
              "  </tbody>\n",
              "</table>\n",
              "</div>"
            ],
            "text/plain": [
              "        customerID gender Partner  ...     PaymentMethod TotalCharges Churn\n",
              "count         6338   6338    6338  ...              6338         6338  6338\n",
              "unique        6338      2       2  ...                 4         5921     2\n",
              "top     3272-VUHPV   Male      No  ...  Electronic check         20.2    No\n",
              "freq             1   3197    3267  ...              2150           11  4650\n",
              "\n",
              "[4 rows x 18 columns]"
            ]
          },
          "metadata": {
            "tags": []
          },
          "execution_count": 126
        }
      ]
    },
    {
      "cell_type": "code",
      "metadata": {
        "id": "dmjTk8cJG1gg",
        "colab": {
          "base_uri": "https://localhost:8080/"
        },
        "outputId": "41a179e7-d571-4d5a-8987-84119ac388b4"
      },
      "source": [
        "# check value for TotalCharges column to fix its type if need to\r\n",
        "df.TotalCharges.unique()\r\n",
        "len(df.TotalCharges.unique())\r\n"
      ],
      "execution_count": null,
      "outputs": [
        {
          "output_type": "execute_result",
          "data": {
            "text/plain": [
              "5921"
            ]
          },
          "metadata": {
            "tags": []
          },
          "execution_count": 127
        }
      ]
    },
    {
      "cell_type": "markdown",
      "metadata": {
        "id": "I9A6TEP7Hwg6"
      },
      "source": [
        "TotalCharges has object type but its value is numeric so need to convert column type to numeric"
      ]
    },
    {
      "cell_type": "markdown",
      "metadata": {
        "id": "-FFnGQG-Iveu"
      },
      "source": [
        "In TotalCharges column there is a value has space \" \" so this has this error\r\n",
        "\r\n",
        "` ValueError: Unable to parse string \" \" at position 3046`\r\n",
        "\r\n",
        "So I change it to 0 using loc"
      ]
    },
    {
      "cell_type": "code",
      "metadata": {
        "id": "4UpecY4eIGcF",
        "colab": {
          "base_uri": "https://localhost:8080/"
        },
        "outputId": "ef99b14f-18c6-4200-983e-3fd2e17dd7f2"
      },
      "source": [
        "# change \" \" to 0 \r\n",
        "df['TotalCharges'].loc[df['TotalCharges'] ==  \" \"] = 0"
      ],
      "execution_count": null,
      "outputs": [
        {
          "output_type": "stream",
          "text": [
            "/usr/local/lib/python3.6/dist-packages/pandas/core/indexing.py:670: SettingWithCopyWarning: \n",
            "A value is trying to be set on a copy of a slice from a DataFrame\n",
            "\n",
            "See the caveats in the documentation: https://pandas.pydata.org/pandas-docs/stable/user_guide/indexing.html#returning-a-view-versus-a-copy\n",
            "  iloc._setitem_with_indexer(indexer, value)\n"
          ],
          "name": "stderr"
        }
      ]
    },
    {
      "cell_type": "code",
      "metadata": {
        "id": "kj3exuApIq_u"
      },
      "source": [
        "# check if value change correctly using index provided in error\r\n",
        "# df['TotalCharges'].iloc[[3046,3182,3525,4002,4378,4773,5570,5630]]"
      ],
      "execution_count": null,
      "outputs": []
    },
    {
      "cell_type": "markdown",
      "metadata": {
        "id": "YG3hRVdcKbvI"
      },
      "source": [
        "Now can change column type"
      ]
    },
    {
      "cell_type": "code",
      "metadata": {
        "id": "_JEkmRsnKaTw"
      },
      "source": [
        "# convert column\r\n",
        "df['TotalCharges'] = pd.to_numeric(df['TotalCharges'])"
      ],
      "execution_count": null,
      "outputs": []
    },
    {
      "cell_type": "markdown",
      "metadata": {
        "id": "pT78tgmmTFKa"
      },
      "source": [
        "### Change columns values to 0/1\r\n"
      ]
    },
    {
      "cell_type": "code",
      "metadata": {
        "colab": {
          "base_uri": "https://localhost:8080/"
        },
        "id": "6gyE9muMOsRE",
        "outputId": "fe2c4e02-9752-4a0a-db04-af4e15f25d6d"
      },
      "source": [
        "# run code for each column to check its values \r\n",
        "df.PaperlessBilling.unique()"
      ],
      "execution_count": null,
      "outputs": [
        {
          "output_type": "execute_result",
          "data": {
            "text/plain": [
              "array(['Yes', 'No'], dtype=object)"
            ]
          },
          "metadata": {
            "tags": []
          },
          "execution_count": 131
        }
      ]
    },
    {
      "cell_type": "code",
      "metadata": {
        "colab": {
          "base_uri": "https://localhost:8080/",
          "height": 137
        },
        "id": "LSV6u3MtjXb8",
        "outputId": "2e0a10a8-696a-448f-820e-1aa4e0589ec8"
      },
      "source": [
        "# How columns look before \r\n",
        "df[['Partner','Dependents','PhoneService','PaperlessBilling','Churn']].head(3)"
      ],
      "execution_count": null,
      "outputs": [
        {
          "output_type": "execute_result",
          "data": {
            "text/html": [
              "<div>\n",
              "<style scoped>\n",
              "    .dataframe tbody tr th:only-of-type {\n",
              "        vertical-align: middle;\n",
              "    }\n",
              "\n",
              "    .dataframe tbody tr th {\n",
              "        vertical-align: top;\n",
              "    }\n",
              "\n",
              "    .dataframe thead th {\n",
              "        text-align: right;\n",
              "    }\n",
              "</style>\n",
              "<table border=\"1\" class=\"dataframe\">\n",
              "  <thead>\n",
              "    <tr style=\"text-align: right;\">\n",
              "      <th></th>\n",
              "      <th>Partner</th>\n",
              "      <th>Dependents</th>\n",
              "      <th>PhoneService</th>\n",
              "      <th>PaperlessBilling</th>\n",
              "      <th>Churn</th>\n",
              "    </tr>\n",
              "  </thead>\n",
              "  <tbody>\n",
              "    <tr>\n",
              "      <th>0</th>\n",
              "      <td>Yes</td>\n",
              "      <td>No</td>\n",
              "      <td>No</td>\n",
              "      <td>Yes</td>\n",
              "      <td>Yes</td>\n",
              "    </tr>\n",
              "    <tr>\n",
              "      <th>1</th>\n",
              "      <td>No</td>\n",
              "      <td>Yes</td>\n",
              "      <td>Yes</td>\n",
              "      <td>No</td>\n",
              "      <td>No</td>\n",
              "    </tr>\n",
              "    <tr>\n",
              "      <th>2</th>\n",
              "      <td>Yes</td>\n",
              "      <td>Yes</td>\n",
              "      <td>Yes</td>\n",
              "      <td>Yes</td>\n",
              "      <td>No</td>\n",
              "    </tr>\n",
              "  </tbody>\n",
              "</table>\n",
              "</div>"
            ],
            "text/plain": [
              "  Partner Dependents PhoneService PaperlessBilling Churn\n",
              "0     Yes         No           No              Yes   Yes\n",
              "1      No        Yes          Yes               No    No\n",
              "2     Yes        Yes          Yes              Yes    No"
            ]
          },
          "metadata": {
            "tags": []
          },
          "execution_count": 132
        }
      ]
    },
    {
      "cell_type": "code",
      "metadata": {
        "id": "sGo-iRjasbdn"
      },
      "source": [
        "# change values from yes/no to 0/1\r\n",
        "df.Partner = df.Partner.map(dict(Yes=1, No=0))\r\n",
        "df.Dependents = df.Dependents.map(dict(Yes=1, No=0))\r\n",
        "df.PhoneService = df.PhoneService.map(dict(Yes=1, No=0))\r\n",
        "df.PaperlessBilling = df.PaperlessBilling.map(dict(Yes=1, No=0))\r\n",
        "df.Churn = df.Churn.map(dict(Yes=1, No=0))\r\n",
        "\r\n",
        "# Other way \r\n",
        "# df['Partner'] = df['Partner'].map({'Yes': 1, 'No': 0}).astype(int) "
      ],
      "execution_count": null,
      "outputs": []
    },
    {
      "cell_type": "code",
      "metadata": {
        "colab": {
          "base_uri": "https://localhost:8080/",
          "height": 137
        },
        "id": "DYVCFcXhjweq",
        "outputId": "efdbeaa6-0fbe-41ae-a632-6085c729bd11"
      },
      "source": [
        "# How columns look after \r\n",
        "df[['Partner','Dependents','PhoneService','PaperlessBilling','Churn']].head(3)"
      ],
      "execution_count": null,
      "outputs": [
        {
          "output_type": "execute_result",
          "data": {
            "text/html": [
              "<div>\n",
              "<style scoped>\n",
              "    .dataframe tbody tr th:only-of-type {\n",
              "        vertical-align: middle;\n",
              "    }\n",
              "\n",
              "    .dataframe tbody tr th {\n",
              "        vertical-align: top;\n",
              "    }\n",
              "\n",
              "    .dataframe thead th {\n",
              "        text-align: right;\n",
              "    }\n",
              "</style>\n",
              "<table border=\"1\" class=\"dataframe\">\n",
              "  <thead>\n",
              "    <tr style=\"text-align: right;\">\n",
              "      <th></th>\n",
              "      <th>Partner</th>\n",
              "      <th>Dependents</th>\n",
              "      <th>PhoneService</th>\n",
              "      <th>PaperlessBilling</th>\n",
              "      <th>Churn</th>\n",
              "    </tr>\n",
              "  </thead>\n",
              "  <tbody>\n",
              "    <tr>\n",
              "      <th>0</th>\n",
              "      <td>1</td>\n",
              "      <td>0</td>\n",
              "      <td>0</td>\n",
              "      <td>1</td>\n",
              "      <td>1</td>\n",
              "    </tr>\n",
              "    <tr>\n",
              "      <th>1</th>\n",
              "      <td>0</td>\n",
              "      <td>1</td>\n",
              "      <td>1</td>\n",
              "      <td>0</td>\n",
              "      <td>0</td>\n",
              "    </tr>\n",
              "    <tr>\n",
              "      <th>2</th>\n",
              "      <td>1</td>\n",
              "      <td>1</td>\n",
              "      <td>1</td>\n",
              "      <td>1</td>\n",
              "      <td>0</td>\n",
              "    </tr>\n",
              "  </tbody>\n",
              "</table>\n",
              "</div>"
            ],
            "text/plain": [
              "   Partner  Dependents  PhoneService  PaperlessBilling  Churn\n",
              "0        1           0             0                 1      1\n",
              "1        0           1             1                 0      0\n",
              "2        1           1             1                 1      0"
            ]
          },
          "metadata": {
            "tags": []
          },
          "execution_count": 134
        }
      ]
    },
    {
      "cell_type": "markdown",
      "metadata": {
        "id": "iCivL1fTTYT0"
      },
      "source": [
        "## Categorical Features using get_dummies\r\n",
        "\r\n",
        "*   gender\r\n",
        "*   MultipleLines\t\r\n",
        "*   InternetService\t\r\n",
        "*   OnlineSecurity\t\r\n",
        "*   OnlineBackup\t\r\n",
        "*   DeviceProtection\t\r\n",
        "*   TechSupport\t\r\n",
        "*   StreamingTV\t\r\n",
        "*   StreamingMovies\t\r\n",
        "*   Contract \r\n",
        "*   PaymentMethod\r\n"
      ]
    },
    {
      "cell_type": "code",
      "metadata": {
        "colab": {
          "base_uri": "https://localhost:8080/",
          "height": 137
        },
        "id": "F1Cp-7Bxj6Pu",
        "outputId": "dbb9d85c-98e0-48d9-cc67-f2984a72d2a3"
      },
      "source": [
        "# How columns look before \r\n",
        "df[['gender', 'MultipleLines' ,'InternetService','OnlineSecurity' , 'OnlineBackup' ,'DeviceProtection' ,'TechSupport','StreamingTV','StreamingMovies' ,'Contract' ,'PaymentMethod']].head(3)"
      ],
      "execution_count": null,
      "outputs": [
        {
          "output_type": "execute_result",
          "data": {
            "text/html": [
              "<div>\n",
              "<style scoped>\n",
              "    .dataframe tbody tr th:only-of-type {\n",
              "        vertical-align: middle;\n",
              "    }\n",
              "\n",
              "    .dataframe tbody tr th {\n",
              "        vertical-align: top;\n",
              "    }\n",
              "\n",
              "    .dataframe thead th {\n",
              "        text-align: right;\n",
              "    }\n",
              "</style>\n",
              "<table border=\"1\" class=\"dataframe\">\n",
              "  <thead>\n",
              "    <tr style=\"text-align: right;\">\n",
              "      <th></th>\n",
              "      <th>gender</th>\n",
              "      <th>MultipleLines</th>\n",
              "      <th>InternetService</th>\n",
              "      <th>OnlineSecurity</th>\n",
              "      <th>OnlineBackup</th>\n",
              "      <th>DeviceProtection</th>\n",
              "      <th>TechSupport</th>\n",
              "      <th>StreamingTV</th>\n",
              "      <th>StreamingMovies</th>\n",
              "      <th>Contract</th>\n",
              "      <th>PaymentMethod</th>\n",
              "    </tr>\n",
              "  </thead>\n",
              "  <tbody>\n",
              "    <tr>\n",
              "      <th>0</th>\n",
              "      <td>Female</td>\n",
              "      <td>No phone service</td>\n",
              "      <td>DSL</td>\n",
              "      <td>No</td>\n",
              "      <td>No</td>\n",
              "      <td>Yes</td>\n",
              "      <td>No</td>\n",
              "      <td>Yes</td>\n",
              "      <td>No</td>\n",
              "      <td>Month-to-month</td>\n",
              "      <td>Electronic check</td>\n",
              "    </tr>\n",
              "    <tr>\n",
              "      <th>1</th>\n",
              "      <td>Male</td>\n",
              "      <td>No</td>\n",
              "      <td>No</td>\n",
              "      <td>No internet service</td>\n",
              "      <td>No internet service</td>\n",
              "      <td>No internet service</td>\n",
              "      <td>No internet service</td>\n",
              "      <td>No internet service</td>\n",
              "      <td>No internet service</td>\n",
              "      <td>Two year</td>\n",
              "      <td>Credit card (automatic)</td>\n",
              "    </tr>\n",
              "    <tr>\n",
              "      <th>2</th>\n",
              "      <td>Female</td>\n",
              "      <td>Yes</td>\n",
              "      <td>Fiber optic</td>\n",
              "      <td>No</td>\n",
              "      <td>No</td>\n",
              "      <td>No</td>\n",
              "      <td>Yes</td>\n",
              "      <td>Yes</td>\n",
              "      <td>Yes</td>\n",
              "      <td>Month-to-month</td>\n",
              "      <td>Credit card (automatic)</td>\n",
              "    </tr>\n",
              "  </tbody>\n",
              "</table>\n",
              "</div>"
            ],
            "text/plain": [
              "   gender     MultipleLines  ...        Contract            PaymentMethod\n",
              "0  Female  No phone service  ...  Month-to-month         Electronic check\n",
              "1    Male                No  ...        Two year  Credit card (automatic)\n",
              "2  Female               Yes  ...  Month-to-month  Credit card (automatic)\n",
              "\n",
              "[3 rows x 11 columns]"
            ]
          },
          "metadata": {
            "tags": []
          },
          "execution_count": 135
        }
      ]
    },
    {
      "cell_type": "code",
      "metadata": {
        "colab": {
          "base_uri": "https://localhost:8080/"
        },
        "id": "5T_XCvx7Nh3w",
        "outputId": "f4523d11-b6eb-4e65-a391-1456a7f1a02f"
      },
      "source": [
        "# use value_counts to see each catagory with its count for each column [to help understand data better]\r\n",
        "df['MultipleLines'].value_counts()\r\n",
        "\r\n",
        "df['PaymentMethod'].value_counts()\r\n"
      ],
      "execution_count": null,
      "outputs": [
        {
          "output_type": "execute_result",
          "data": {
            "text/plain": [
              "Electronic check             2150\n",
              "Mailed check                 1424\n",
              "Bank transfer (automatic)    1386\n",
              "Credit card (automatic)      1378\n",
              "Name: PaymentMethod, dtype: int64"
            ]
          },
          "metadata": {
            "tags": []
          },
          "execution_count": 136
        }
      ]
    },
    {
      "cell_type": "code",
      "metadata": {
        "colab": {
          "base_uri": "https://localhost:8080/",
          "height": 137
        },
        "id": "HLn9xbQwW1iY",
        "outputId": "e0ca018d-7740-4ca5-a4b5-edfa8d24c4de"
      },
      "source": [
        "# use get_dummies on column \r\n",
        "pd.get_dummies(df['MultipleLines']).head(3)"
      ],
      "execution_count": null,
      "outputs": [
        {
          "output_type": "execute_result",
          "data": {
            "text/html": [
              "<div>\n",
              "<style scoped>\n",
              "    .dataframe tbody tr th:only-of-type {\n",
              "        vertical-align: middle;\n",
              "    }\n",
              "\n",
              "    .dataframe tbody tr th {\n",
              "        vertical-align: top;\n",
              "    }\n",
              "\n",
              "    .dataframe thead th {\n",
              "        text-align: right;\n",
              "    }\n",
              "</style>\n",
              "<table border=\"1\" class=\"dataframe\">\n",
              "  <thead>\n",
              "    <tr style=\"text-align: right;\">\n",
              "      <th></th>\n",
              "      <th>No</th>\n",
              "      <th>No phone service</th>\n",
              "      <th>Yes</th>\n",
              "    </tr>\n",
              "  </thead>\n",
              "  <tbody>\n",
              "    <tr>\n",
              "      <th>0</th>\n",
              "      <td>0</td>\n",
              "      <td>1</td>\n",
              "      <td>0</td>\n",
              "    </tr>\n",
              "    <tr>\n",
              "      <th>1</th>\n",
              "      <td>1</td>\n",
              "      <td>0</td>\n",
              "      <td>0</td>\n",
              "    </tr>\n",
              "    <tr>\n",
              "      <th>2</th>\n",
              "      <td>0</td>\n",
              "      <td>0</td>\n",
              "      <td>1</td>\n",
              "    </tr>\n",
              "  </tbody>\n",
              "</table>\n",
              "</div>"
            ],
            "text/plain": [
              "   No  No phone service  Yes\n",
              "0   0                 1    0\n",
              "1   1                 0    0\n",
              "2   0                 0    1"
            ]
          },
          "metadata": {
            "tags": []
          },
          "execution_count": 137
        }
      ]
    },
    {
      "cell_type": "code",
      "metadata": {
        "colab": {
          "base_uri": "https://localhost:8080/",
          "height": 137
        },
        "id": "MQqCAQaKWu_Y",
        "outputId": "26add4f9-f3d3-4db4-a346-83e88a050903"
      },
      "source": [
        "# use get_dummies on column\r\n",
        "pd.get_dummies(df['InternetService']).head(3)"
      ],
      "execution_count": null,
      "outputs": [
        {
          "output_type": "execute_result",
          "data": {
            "text/html": [
              "<div>\n",
              "<style scoped>\n",
              "    .dataframe tbody tr th:only-of-type {\n",
              "        vertical-align: middle;\n",
              "    }\n",
              "\n",
              "    .dataframe tbody tr th {\n",
              "        vertical-align: top;\n",
              "    }\n",
              "\n",
              "    .dataframe thead th {\n",
              "        text-align: right;\n",
              "    }\n",
              "</style>\n",
              "<table border=\"1\" class=\"dataframe\">\n",
              "  <thead>\n",
              "    <tr style=\"text-align: right;\">\n",
              "      <th></th>\n",
              "      <th>DSL</th>\n",
              "      <th>Fiber optic</th>\n",
              "      <th>No</th>\n",
              "    </tr>\n",
              "  </thead>\n",
              "  <tbody>\n",
              "    <tr>\n",
              "      <th>0</th>\n",
              "      <td>1</td>\n",
              "      <td>0</td>\n",
              "      <td>0</td>\n",
              "    </tr>\n",
              "    <tr>\n",
              "      <th>1</th>\n",
              "      <td>0</td>\n",
              "      <td>0</td>\n",
              "      <td>1</td>\n",
              "    </tr>\n",
              "    <tr>\n",
              "      <th>2</th>\n",
              "      <td>0</td>\n",
              "      <td>1</td>\n",
              "      <td>0</td>\n",
              "    </tr>\n",
              "  </tbody>\n",
              "</table>\n",
              "</div>"
            ],
            "text/plain": [
              "   DSL  Fiber optic  No\n",
              "0    1            0   0\n",
              "1    0            0   1\n",
              "2    0            1   0"
            ]
          },
          "metadata": {
            "tags": []
          },
          "execution_count": 138
        }
      ]
    },
    {
      "cell_type": "markdown",
      "metadata": {
        "id": "gB7FRsygbsqq"
      },
      "source": [
        "Can't use this way since there will be multiple columns named yes and no so need to use diffrent way with the columns that has yes/no values.\r\n",
        "\r\n",
        "**But can use get_dummies on gender, PaymentMethod and Contract columns**"
      ]
    },
    {
      "cell_type": "code",
      "metadata": {
        "colab": {
          "base_uri": "https://localhost:8080/",
          "height": 137
        },
        "id": "smiowcQpPWA4",
        "outputId": "82b19f3f-f147-4458-ea36-1d88e6309122"
      },
      "source": [
        "# use get_dummies on column and store it to data frame to concat it latter \r\n",
        "gender_df = pd.get_dummies(df['gender'])\r\n",
        "gender_df.head(3)"
      ],
      "execution_count": null,
      "outputs": [
        {
          "output_type": "execute_result",
          "data": {
            "text/html": [
              "<div>\n",
              "<style scoped>\n",
              "    .dataframe tbody tr th:only-of-type {\n",
              "        vertical-align: middle;\n",
              "    }\n",
              "\n",
              "    .dataframe tbody tr th {\n",
              "        vertical-align: top;\n",
              "    }\n",
              "\n",
              "    .dataframe thead th {\n",
              "        text-align: right;\n",
              "    }\n",
              "</style>\n",
              "<table border=\"1\" class=\"dataframe\">\n",
              "  <thead>\n",
              "    <tr style=\"text-align: right;\">\n",
              "      <th></th>\n",
              "      <th>Female</th>\n",
              "      <th>Male</th>\n",
              "    </tr>\n",
              "  </thead>\n",
              "  <tbody>\n",
              "    <tr>\n",
              "      <th>0</th>\n",
              "      <td>1</td>\n",
              "      <td>0</td>\n",
              "    </tr>\n",
              "    <tr>\n",
              "      <th>1</th>\n",
              "      <td>0</td>\n",
              "      <td>1</td>\n",
              "    </tr>\n",
              "    <tr>\n",
              "      <th>2</th>\n",
              "      <td>1</td>\n",
              "      <td>0</td>\n",
              "    </tr>\n",
              "  </tbody>\n",
              "</table>\n",
              "</div>"
            ],
            "text/plain": [
              "   Female  Male\n",
              "0       1     0\n",
              "1       0     1\n",
              "2       1     0"
            ]
          },
          "metadata": {
            "tags": []
          },
          "execution_count": 139
        }
      ]
    },
    {
      "cell_type": "code",
      "metadata": {
        "colab": {
          "base_uri": "https://localhost:8080/",
          "height": 137
        },
        "id": "LArXjtFEWnQh",
        "outputId": "80eaf9d9-35c4-4758-87ba-4967f2a2f4a3"
      },
      "source": [
        "# use get_dummies on column and store it to data frame to concat it latter \r\n",
        "PaymentMethod_df = pd.get_dummies(df['PaymentMethod'])\r\n",
        "PaymentMethod_df.head(3)"
      ],
      "execution_count": null,
      "outputs": [
        {
          "output_type": "execute_result",
          "data": {
            "text/html": [
              "<div>\n",
              "<style scoped>\n",
              "    .dataframe tbody tr th:only-of-type {\n",
              "        vertical-align: middle;\n",
              "    }\n",
              "\n",
              "    .dataframe tbody tr th {\n",
              "        vertical-align: top;\n",
              "    }\n",
              "\n",
              "    .dataframe thead th {\n",
              "        text-align: right;\n",
              "    }\n",
              "</style>\n",
              "<table border=\"1\" class=\"dataframe\">\n",
              "  <thead>\n",
              "    <tr style=\"text-align: right;\">\n",
              "      <th></th>\n",
              "      <th>Bank transfer (automatic)</th>\n",
              "      <th>Credit card (automatic)</th>\n",
              "      <th>Electronic check</th>\n",
              "      <th>Mailed check</th>\n",
              "    </tr>\n",
              "  </thead>\n",
              "  <tbody>\n",
              "    <tr>\n",
              "      <th>0</th>\n",
              "      <td>0</td>\n",
              "      <td>0</td>\n",
              "      <td>1</td>\n",
              "      <td>0</td>\n",
              "    </tr>\n",
              "    <tr>\n",
              "      <th>1</th>\n",
              "      <td>0</td>\n",
              "      <td>1</td>\n",
              "      <td>0</td>\n",
              "      <td>0</td>\n",
              "    </tr>\n",
              "    <tr>\n",
              "      <th>2</th>\n",
              "      <td>0</td>\n",
              "      <td>1</td>\n",
              "      <td>0</td>\n",
              "      <td>0</td>\n",
              "    </tr>\n",
              "  </tbody>\n",
              "</table>\n",
              "</div>"
            ],
            "text/plain": [
              "   Bank transfer (automatic)  ...  Mailed check\n",
              "0                          0  ...             0\n",
              "1                          0  ...             0\n",
              "2                          0  ...             0\n",
              "\n",
              "[3 rows x 4 columns]"
            ]
          },
          "metadata": {
            "tags": []
          },
          "execution_count": 140
        }
      ]
    },
    {
      "cell_type": "code",
      "metadata": {
        "colab": {
          "base_uri": "https://localhost:8080/",
          "height": 137
        },
        "id": "qwxbqQOkeycE",
        "outputId": "cefbeeaa-cc85-4cc7-83a4-d33411ad6a1e"
      },
      "source": [
        "# use get_dummies on column and store it to data frame to concat it latter \r\n",
        "Contract_df = pd.get_dummies(df['Contract'])\r\n",
        "Contract_df.head(3)"
      ],
      "execution_count": null,
      "outputs": [
        {
          "output_type": "execute_result",
          "data": {
            "text/html": [
              "<div>\n",
              "<style scoped>\n",
              "    .dataframe tbody tr th:only-of-type {\n",
              "        vertical-align: middle;\n",
              "    }\n",
              "\n",
              "    .dataframe tbody tr th {\n",
              "        vertical-align: top;\n",
              "    }\n",
              "\n",
              "    .dataframe thead th {\n",
              "        text-align: right;\n",
              "    }\n",
              "</style>\n",
              "<table border=\"1\" class=\"dataframe\">\n",
              "  <thead>\n",
              "    <tr style=\"text-align: right;\">\n",
              "      <th></th>\n",
              "      <th>Month-to-month</th>\n",
              "      <th>One year</th>\n",
              "      <th>Two year</th>\n",
              "    </tr>\n",
              "  </thead>\n",
              "  <tbody>\n",
              "    <tr>\n",
              "      <th>0</th>\n",
              "      <td>1</td>\n",
              "      <td>0</td>\n",
              "      <td>0</td>\n",
              "    </tr>\n",
              "    <tr>\n",
              "      <th>1</th>\n",
              "      <td>0</td>\n",
              "      <td>0</td>\n",
              "      <td>1</td>\n",
              "    </tr>\n",
              "    <tr>\n",
              "      <th>2</th>\n",
              "      <td>1</td>\n",
              "      <td>0</td>\n",
              "      <td>0</td>\n",
              "    </tr>\n",
              "  </tbody>\n",
              "</table>\n",
              "</div>"
            ],
            "text/plain": [
              "   Month-to-month  One year  Two year\n",
              "0               1         0         0\n",
              "1               0         0         1\n",
              "2               1         0         0"
            ]
          },
          "metadata": {
            "tags": []
          },
          "execution_count": 141
        }
      ]
    },
    {
      "cell_type": "markdown",
      "metadata": {
        "id": "y-qEzVoEXouB"
      },
      "source": [
        "## Categorical Features using feature_extraction\r\n",
        "\r\n",
        "**get_dummies will not work since there is replicated yes/no for different catagories**\r\n",
        "\r\n",
        "So I use feature_extraction instead"
      ]
    },
    {
      "cell_type": "markdown",
      "metadata": {
        "id": "Qy-N-tZ9c1sz"
      },
      "source": [
        "### MultipleLines Column"
      ]
    },
    {
      "cell_type": "code",
      "metadata": {
        "colab": {
          "base_uri": "https://localhost:8080/",
          "height": 137
        },
        "id": "dNZ_i06JYyPJ",
        "outputId": "94ca7d12-c994-42a7-f564-c7a592858303"
      },
      "source": [
        "# Transform categorical column and store it in df\r\n",
        "from sklearn.feature_extraction import DictVectorizer\r\n",
        "\r\n",
        "d = [{'MultipleLines':v} for v in df.MultipleLines]\r\n",
        "\r\n",
        "vec = DictVectorizer(sparse=False, dtype=int)\r\n",
        "\r\n",
        "# get list of dicts from `type` column\r\n",
        "data = [{'MultipleLines':v} for v in df.MultipleLines]\r\n",
        "\r\n",
        "t = vec.fit_transform(data)\r\n",
        "names = vec.feature_names_\r\n",
        "\r\n",
        "MultipleLines_df = pd.DataFrame(t, columns=names)\r\n",
        "MultipleLines_df.head(3)"
      ],
      "execution_count": null,
      "outputs": [
        {
          "output_type": "execute_result",
          "data": {
            "text/html": [
              "<div>\n",
              "<style scoped>\n",
              "    .dataframe tbody tr th:only-of-type {\n",
              "        vertical-align: middle;\n",
              "    }\n",
              "\n",
              "    .dataframe tbody tr th {\n",
              "        vertical-align: top;\n",
              "    }\n",
              "\n",
              "    .dataframe thead th {\n",
              "        text-align: right;\n",
              "    }\n",
              "</style>\n",
              "<table border=\"1\" class=\"dataframe\">\n",
              "  <thead>\n",
              "    <tr style=\"text-align: right;\">\n",
              "      <th></th>\n",
              "      <th>MultipleLines=No</th>\n",
              "      <th>MultipleLines=No phone service</th>\n",
              "      <th>MultipleLines=Yes</th>\n",
              "    </tr>\n",
              "  </thead>\n",
              "  <tbody>\n",
              "    <tr>\n",
              "      <th>0</th>\n",
              "      <td>0</td>\n",
              "      <td>1</td>\n",
              "      <td>0</td>\n",
              "    </tr>\n",
              "    <tr>\n",
              "      <th>1</th>\n",
              "      <td>1</td>\n",
              "      <td>0</td>\n",
              "      <td>0</td>\n",
              "    </tr>\n",
              "    <tr>\n",
              "      <th>2</th>\n",
              "      <td>0</td>\n",
              "      <td>0</td>\n",
              "      <td>1</td>\n",
              "    </tr>\n",
              "  </tbody>\n",
              "</table>\n",
              "</div>"
            ],
            "text/plain": [
              "   MultipleLines=No  MultipleLines=No phone service  MultipleLines=Yes\n",
              "0                 0                               1                  0\n",
              "1                 1                               0                  0\n",
              "2                 0                               0                  1"
            ]
          },
          "metadata": {
            "tags": []
          },
          "execution_count": 142
        }
      ]
    },
    {
      "cell_type": "markdown",
      "metadata": {
        "id": "jeGMdJVcc5Uj"
      },
      "source": [
        "### InternetService Column"
      ]
    },
    {
      "cell_type": "code",
      "metadata": {
        "colab": {
          "base_uri": "https://localhost:8080/",
          "height": 137
        },
        "id": "GJfKy7YbY_8Y",
        "outputId": "0761e786-b087-4b70-9eae-2836612e9b93"
      },
      "source": [
        "# Transform categorical column and store it in df\r\n",
        "from sklearn.feature_extraction import DictVectorizer\r\n",
        "\r\n",
        "d = [{'InternetService':v} for v in df.InternetService]\r\n",
        "\r\n",
        "vec = DictVectorizer(sparse=False, dtype=int)\r\n",
        "\r\n",
        "# get list of dicts from `type` column\r\n",
        "data = [{'InternetService':v} for v in df.InternetService]\r\n",
        "\r\n",
        "t = vec.fit_transform(data)\r\n",
        "names = vec.feature_names_\r\n",
        "\r\n",
        "InternetService_df = pd.DataFrame(t, columns=names)\r\n",
        "InternetService_df.head(3)"
      ],
      "execution_count": null,
      "outputs": [
        {
          "output_type": "execute_result",
          "data": {
            "text/html": [
              "<div>\n",
              "<style scoped>\n",
              "    .dataframe tbody tr th:only-of-type {\n",
              "        vertical-align: middle;\n",
              "    }\n",
              "\n",
              "    .dataframe tbody tr th {\n",
              "        vertical-align: top;\n",
              "    }\n",
              "\n",
              "    .dataframe thead th {\n",
              "        text-align: right;\n",
              "    }\n",
              "</style>\n",
              "<table border=\"1\" class=\"dataframe\">\n",
              "  <thead>\n",
              "    <tr style=\"text-align: right;\">\n",
              "      <th></th>\n",
              "      <th>InternetService=DSL</th>\n",
              "      <th>InternetService=Fiber optic</th>\n",
              "      <th>InternetService=No</th>\n",
              "    </tr>\n",
              "  </thead>\n",
              "  <tbody>\n",
              "    <tr>\n",
              "      <th>0</th>\n",
              "      <td>1</td>\n",
              "      <td>0</td>\n",
              "      <td>0</td>\n",
              "    </tr>\n",
              "    <tr>\n",
              "      <th>1</th>\n",
              "      <td>0</td>\n",
              "      <td>0</td>\n",
              "      <td>1</td>\n",
              "    </tr>\n",
              "    <tr>\n",
              "      <th>2</th>\n",
              "      <td>0</td>\n",
              "      <td>1</td>\n",
              "      <td>0</td>\n",
              "    </tr>\n",
              "  </tbody>\n",
              "</table>\n",
              "</div>"
            ],
            "text/plain": [
              "   InternetService=DSL  InternetService=Fiber optic  InternetService=No\n",
              "0                    1                            0                   0\n",
              "1                    0                            0                   1\n",
              "2                    0                            1                   0"
            ]
          },
          "metadata": {
            "tags": []
          },
          "execution_count": 143
        }
      ]
    },
    {
      "cell_type": "markdown",
      "metadata": {
        "id": "3eEdvIQZc-hN"
      },
      "source": [
        "### OnlineSecurity Column"
      ]
    },
    {
      "cell_type": "code",
      "metadata": {
        "colab": {
          "base_uri": "https://localhost:8080/",
          "height": 137
        },
        "id": "1a87R1wkbGOv",
        "outputId": "227d6f38-e525-41a9-f7fc-7323819f8ce3"
      },
      "source": [
        "# Transform categorical column and store it in df\r\n",
        "from sklearn.feature_extraction import DictVectorizer\r\n",
        "\r\n",
        "d = [{'OnlineSecurity':v} for v in df.OnlineSecurity]\r\n",
        "\r\n",
        "vec = DictVectorizer(sparse=False, dtype=int)\r\n",
        "\r\n",
        "# get list of dicts from `type` column\r\n",
        "data = [{'OnlineSecurity':v} for v in df.OnlineSecurity]\r\n",
        "\r\n",
        "t = vec.fit_transform(data)\r\n",
        "names = vec.feature_names_\r\n",
        "\r\n",
        "OnlineSecurity_df = pd.DataFrame(t, columns=names)\r\n",
        "OnlineSecurity_df.head(3)"
      ],
      "execution_count": null,
      "outputs": [
        {
          "output_type": "execute_result",
          "data": {
            "text/html": [
              "<div>\n",
              "<style scoped>\n",
              "    .dataframe tbody tr th:only-of-type {\n",
              "        vertical-align: middle;\n",
              "    }\n",
              "\n",
              "    .dataframe tbody tr th {\n",
              "        vertical-align: top;\n",
              "    }\n",
              "\n",
              "    .dataframe thead th {\n",
              "        text-align: right;\n",
              "    }\n",
              "</style>\n",
              "<table border=\"1\" class=\"dataframe\">\n",
              "  <thead>\n",
              "    <tr style=\"text-align: right;\">\n",
              "      <th></th>\n",
              "      <th>OnlineSecurity=No</th>\n",
              "      <th>OnlineSecurity=No internet service</th>\n",
              "      <th>OnlineSecurity=Yes</th>\n",
              "    </tr>\n",
              "  </thead>\n",
              "  <tbody>\n",
              "    <tr>\n",
              "      <th>0</th>\n",
              "      <td>1</td>\n",
              "      <td>0</td>\n",
              "      <td>0</td>\n",
              "    </tr>\n",
              "    <tr>\n",
              "      <th>1</th>\n",
              "      <td>0</td>\n",
              "      <td>1</td>\n",
              "      <td>0</td>\n",
              "    </tr>\n",
              "    <tr>\n",
              "      <th>2</th>\n",
              "      <td>1</td>\n",
              "      <td>0</td>\n",
              "      <td>0</td>\n",
              "    </tr>\n",
              "  </tbody>\n",
              "</table>\n",
              "</div>"
            ],
            "text/plain": [
              "   OnlineSecurity=No  OnlineSecurity=No internet service  OnlineSecurity=Yes\n",
              "0                  1                                   0                   0\n",
              "1                  0                                   1                   0\n",
              "2                  1                                   0                   0"
            ]
          },
          "metadata": {
            "tags": []
          },
          "execution_count": 144
        }
      ]
    },
    {
      "cell_type": "markdown",
      "metadata": {
        "id": "WE_q2CItdEjZ"
      },
      "source": [
        "### OnlineBackup Column"
      ]
    },
    {
      "cell_type": "code",
      "metadata": {
        "colab": {
          "base_uri": "https://localhost:8080/",
          "height": 137
        },
        "id": "68cSCpQcdEH5",
        "outputId": "e612e83f-cc88-424e-8a1b-501da1d47274"
      },
      "source": [
        "# Transform categorical column and store it in df\r\n",
        "from sklearn.feature_extraction import DictVectorizer\r\n",
        "\r\n",
        "d = [{'OnlineBackup':v} for v in df.OnlineBackup]\r\n",
        "\r\n",
        "vec = DictVectorizer(sparse=False, dtype=int)\r\n",
        "\r\n",
        "# get list of dicts from `type` column\r\n",
        "data = [{'OnlineBackup':v} for v in df.OnlineBackup]\r\n",
        "\r\n",
        "t = vec.fit_transform(data)\r\n",
        "names = vec.feature_names_\r\n",
        "\r\n",
        "OnlineBackup_df = pd.DataFrame(t, columns=names)\r\n",
        "OnlineBackup_df.head(3)"
      ],
      "execution_count": null,
      "outputs": [
        {
          "output_type": "execute_result",
          "data": {
            "text/html": [
              "<div>\n",
              "<style scoped>\n",
              "    .dataframe tbody tr th:only-of-type {\n",
              "        vertical-align: middle;\n",
              "    }\n",
              "\n",
              "    .dataframe tbody tr th {\n",
              "        vertical-align: top;\n",
              "    }\n",
              "\n",
              "    .dataframe thead th {\n",
              "        text-align: right;\n",
              "    }\n",
              "</style>\n",
              "<table border=\"1\" class=\"dataframe\">\n",
              "  <thead>\n",
              "    <tr style=\"text-align: right;\">\n",
              "      <th></th>\n",
              "      <th>OnlineBackup=No</th>\n",
              "      <th>OnlineBackup=No internet service</th>\n",
              "      <th>OnlineBackup=Yes</th>\n",
              "    </tr>\n",
              "  </thead>\n",
              "  <tbody>\n",
              "    <tr>\n",
              "      <th>0</th>\n",
              "      <td>1</td>\n",
              "      <td>0</td>\n",
              "      <td>0</td>\n",
              "    </tr>\n",
              "    <tr>\n",
              "      <th>1</th>\n",
              "      <td>0</td>\n",
              "      <td>1</td>\n",
              "      <td>0</td>\n",
              "    </tr>\n",
              "    <tr>\n",
              "      <th>2</th>\n",
              "      <td>1</td>\n",
              "      <td>0</td>\n",
              "      <td>0</td>\n",
              "    </tr>\n",
              "  </tbody>\n",
              "</table>\n",
              "</div>"
            ],
            "text/plain": [
              "   OnlineBackup=No  OnlineBackup=No internet service  OnlineBackup=Yes\n",
              "0                1                                 0                 0\n",
              "1                0                                 1                 0\n",
              "2                1                                 0                 0"
            ]
          },
          "metadata": {
            "tags": []
          },
          "execution_count": 145
        }
      ]
    },
    {
      "cell_type": "markdown",
      "metadata": {
        "id": "D0WHEHyIdGy8"
      },
      "source": [
        "### DeviceProtection Column"
      ]
    },
    {
      "cell_type": "code",
      "metadata": {
        "colab": {
          "base_uri": "https://localhost:8080/",
          "height": 137
        },
        "id": "VMDSdgR7bGSL",
        "outputId": "d1c457d2-a3c0-4568-c0ac-4501c901297e"
      },
      "source": [
        "# Transform categorical column and store it in df\r\n",
        "from sklearn.feature_extraction import DictVectorizer\r\n",
        "\r\n",
        "d = [{'DeviceProtection':v} for v in df.DeviceProtection]\r\n",
        "\r\n",
        "vec = DictVectorizer(sparse=False, dtype=int)\r\n",
        "\r\n",
        "# get list of dicts from `type` column\r\n",
        "data = [{'DeviceProtection':v} for v in df.DeviceProtection]\r\n",
        "\r\n",
        "t = vec.fit_transform(data)\r\n",
        "names = vec.feature_names_\r\n",
        "\r\n",
        "DeviceProtection_df = pd.DataFrame(t, columns=names)\r\n",
        "DeviceProtection_df.head(3)"
      ],
      "execution_count": null,
      "outputs": [
        {
          "output_type": "execute_result",
          "data": {
            "text/html": [
              "<div>\n",
              "<style scoped>\n",
              "    .dataframe tbody tr th:only-of-type {\n",
              "        vertical-align: middle;\n",
              "    }\n",
              "\n",
              "    .dataframe tbody tr th {\n",
              "        vertical-align: top;\n",
              "    }\n",
              "\n",
              "    .dataframe thead th {\n",
              "        text-align: right;\n",
              "    }\n",
              "</style>\n",
              "<table border=\"1\" class=\"dataframe\">\n",
              "  <thead>\n",
              "    <tr style=\"text-align: right;\">\n",
              "      <th></th>\n",
              "      <th>DeviceProtection=No</th>\n",
              "      <th>DeviceProtection=No internet service</th>\n",
              "      <th>DeviceProtection=Yes</th>\n",
              "    </tr>\n",
              "  </thead>\n",
              "  <tbody>\n",
              "    <tr>\n",
              "      <th>0</th>\n",
              "      <td>0</td>\n",
              "      <td>0</td>\n",
              "      <td>1</td>\n",
              "    </tr>\n",
              "    <tr>\n",
              "      <th>1</th>\n",
              "      <td>0</td>\n",
              "      <td>1</td>\n",
              "      <td>0</td>\n",
              "    </tr>\n",
              "    <tr>\n",
              "      <th>2</th>\n",
              "      <td>1</td>\n",
              "      <td>0</td>\n",
              "      <td>0</td>\n",
              "    </tr>\n",
              "  </tbody>\n",
              "</table>\n",
              "</div>"
            ],
            "text/plain": [
              "   DeviceProtection=No  ...  DeviceProtection=Yes\n",
              "0                    0  ...                     1\n",
              "1                    0  ...                     0\n",
              "2                    1  ...                     0\n",
              "\n",
              "[3 rows x 3 columns]"
            ]
          },
          "metadata": {
            "tags": []
          },
          "execution_count": 146
        }
      ]
    },
    {
      "cell_type": "markdown",
      "metadata": {
        "id": "S2cvOp2kdH4x"
      },
      "source": [
        "### TechSupport Column"
      ]
    },
    {
      "cell_type": "code",
      "metadata": {
        "colab": {
          "base_uri": "https://localhost:8080/",
          "height": 137
        },
        "id": "KWvygJqYdIjl",
        "outputId": "f218f1c7-134b-4b71-af0e-a389da63656a"
      },
      "source": [
        "# Transform categorical column and store it in df\r\n",
        "from sklearn.feature_extraction import DictVectorizer\r\n",
        "\r\n",
        "d = [{'TechSupport':v} for v in df.TechSupport]\r\n",
        "\r\n",
        "vec = DictVectorizer(sparse=False, dtype=int)\r\n",
        "\r\n",
        "# get list of dicts from `type` column\r\n",
        "data = [{'TechSupport':v} for v in df.TechSupport]\r\n",
        "\r\n",
        "t = vec.fit_transform(data)\r\n",
        "names = vec.feature_names_\r\n",
        "\r\n",
        "TechSupport_df = pd.DataFrame(t, columns=names)\r\n",
        "TechSupport_df.head(3)"
      ],
      "execution_count": null,
      "outputs": [
        {
          "output_type": "execute_result",
          "data": {
            "text/html": [
              "<div>\n",
              "<style scoped>\n",
              "    .dataframe tbody tr th:only-of-type {\n",
              "        vertical-align: middle;\n",
              "    }\n",
              "\n",
              "    .dataframe tbody tr th {\n",
              "        vertical-align: top;\n",
              "    }\n",
              "\n",
              "    .dataframe thead th {\n",
              "        text-align: right;\n",
              "    }\n",
              "</style>\n",
              "<table border=\"1\" class=\"dataframe\">\n",
              "  <thead>\n",
              "    <tr style=\"text-align: right;\">\n",
              "      <th></th>\n",
              "      <th>TechSupport=No</th>\n",
              "      <th>TechSupport=No internet service</th>\n",
              "      <th>TechSupport=Yes</th>\n",
              "    </tr>\n",
              "  </thead>\n",
              "  <tbody>\n",
              "    <tr>\n",
              "      <th>0</th>\n",
              "      <td>1</td>\n",
              "      <td>0</td>\n",
              "      <td>0</td>\n",
              "    </tr>\n",
              "    <tr>\n",
              "      <th>1</th>\n",
              "      <td>0</td>\n",
              "      <td>1</td>\n",
              "      <td>0</td>\n",
              "    </tr>\n",
              "    <tr>\n",
              "      <th>2</th>\n",
              "      <td>0</td>\n",
              "      <td>0</td>\n",
              "      <td>1</td>\n",
              "    </tr>\n",
              "  </tbody>\n",
              "</table>\n",
              "</div>"
            ],
            "text/plain": [
              "   TechSupport=No  TechSupport=No internet service  TechSupport=Yes\n",
              "0               1                                0                0\n",
              "1               0                                1                0\n",
              "2               0                                0                1"
            ]
          },
          "metadata": {
            "tags": []
          },
          "execution_count": 147
        }
      ]
    },
    {
      "cell_type": "markdown",
      "metadata": {
        "id": "R6WYmczVdIr3"
      },
      "source": [
        "### StreamingTV Column"
      ]
    },
    {
      "cell_type": "code",
      "metadata": {
        "colab": {
          "base_uri": "https://localhost:8080/",
          "height": 137
        },
        "id": "GylN17tubGZl",
        "outputId": "2ca64d96-4b07-43b3-c2bf-9fb1d4c2848a"
      },
      "source": [
        "# Transform categorical column and store it in df\r\n",
        "from sklearn.feature_extraction import DictVectorizer\r\n",
        "\r\n",
        "d = [{'StreamingTV':v} for v in df.StreamingTV]\r\n",
        "\r\n",
        "vec = DictVectorizer(sparse=False, dtype=int)\r\n",
        "\r\n",
        "# get list of dicts from `type` column\r\n",
        "data = [{'StreamingTV':v} for v in df.StreamingTV]\r\n",
        "\r\n",
        "t = vec.fit_transform(data)\r\n",
        "names = vec.feature_names_\r\n",
        "\r\n",
        "StreamingTV_df = pd.DataFrame(t, columns=names)\r\n",
        "StreamingTV_df.head(3)"
      ],
      "execution_count": null,
      "outputs": [
        {
          "output_type": "execute_result",
          "data": {
            "text/html": [
              "<div>\n",
              "<style scoped>\n",
              "    .dataframe tbody tr th:only-of-type {\n",
              "        vertical-align: middle;\n",
              "    }\n",
              "\n",
              "    .dataframe tbody tr th {\n",
              "        vertical-align: top;\n",
              "    }\n",
              "\n",
              "    .dataframe thead th {\n",
              "        text-align: right;\n",
              "    }\n",
              "</style>\n",
              "<table border=\"1\" class=\"dataframe\">\n",
              "  <thead>\n",
              "    <tr style=\"text-align: right;\">\n",
              "      <th></th>\n",
              "      <th>StreamingTV=No</th>\n",
              "      <th>StreamingTV=No internet service</th>\n",
              "      <th>StreamingTV=Yes</th>\n",
              "    </tr>\n",
              "  </thead>\n",
              "  <tbody>\n",
              "    <tr>\n",
              "      <th>0</th>\n",
              "      <td>0</td>\n",
              "      <td>0</td>\n",
              "      <td>1</td>\n",
              "    </tr>\n",
              "    <tr>\n",
              "      <th>1</th>\n",
              "      <td>0</td>\n",
              "      <td>1</td>\n",
              "      <td>0</td>\n",
              "    </tr>\n",
              "    <tr>\n",
              "      <th>2</th>\n",
              "      <td>0</td>\n",
              "      <td>0</td>\n",
              "      <td>1</td>\n",
              "    </tr>\n",
              "  </tbody>\n",
              "</table>\n",
              "</div>"
            ],
            "text/plain": [
              "   StreamingTV=No  StreamingTV=No internet service  StreamingTV=Yes\n",
              "0               0                                0                1\n",
              "1               0                                1                0\n",
              "2               0                                0                1"
            ]
          },
          "metadata": {
            "tags": []
          },
          "execution_count": 148
        }
      ]
    },
    {
      "cell_type": "markdown",
      "metadata": {
        "id": "6qV9UwHkdrm7"
      },
      "source": [
        "### StreamingMovies Column"
      ]
    },
    {
      "cell_type": "code",
      "metadata": {
        "colab": {
          "base_uri": "https://localhost:8080/",
          "height": 137
        },
        "id": "P3gFybS6dr5Q",
        "outputId": "df7a4a8e-02c4-4f6e-99e7-d7174a0a84bd"
      },
      "source": [
        "# Transform categorical column and store it in df\r\n",
        "from sklearn.feature_extraction import DictVectorizer\r\n",
        "\r\n",
        "d = [{'StreamingMovies':v} for v in df.StreamingMovies]\r\n",
        "\r\n",
        "vec = DictVectorizer(sparse=False, dtype=int)\r\n",
        "\r\n",
        "# get list of dicts from `type` column\r\n",
        "data = [{'StreamingMovies':v} for v in df.StreamingMovies]\r\n",
        "\r\n",
        "t = vec.fit_transform(data)\r\n",
        "names = vec.feature_names_\r\n",
        "\r\n",
        "StreamingMovies_df = pd.DataFrame(t, columns=names)\r\n",
        "StreamingMovies_df.head(3)"
      ],
      "execution_count": null,
      "outputs": [
        {
          "output_type": "execute_result",
          "data": {
            "text/html": [
              "<div>\n",
              "<style scoped>\n",
              "    .dataframe tbody tr th:only-of-type {\n",
              "        vertical-align: middle;\n",
              "    }\n",
              "\n",
              "    .dataframe tbody tr th {\n",
              "        vertical-align: top;\n",
              "    }\n",
              "\n",
              "    .dataframe thead th {\n",
              "        text-align: right;\n",
              "    }\n",
              "</style>\n",
              "<table border=\"1\" class=\"dataframe\">\n",
              "  <thead>\n",
              "    <tr style=\"text-align: right;\">\n",
              "      <th></th>\n",
              "      <th>StreamingMovies=No</th>\n",
              "      <th>StreamingMovies=No internet service</th>\n",
              "      <th>StreamingMovies=Yes</th>\n",
              "    </tr>\n",
              "  </thead>\n",
              "  <tbody>\n",
              "    <tr>\n",
              "      <th>0</th>\n",
              "      <td>1</td>\n",
              "      <td>0</td>\n",
              "      <td>0</td>\n",
              "    </tr>\n",
              "    <tr>\n",
              "      <th>1</th>\n",
              "      <td>0</td>\n",
              "      <td>1</td>\n",
              "      <td>0</td>\n",
              "    </tr>\n",
              "    <tr>\n",
              "      <th>2</th>\n",
              "      <td>0</td>\n",
              "      <td>0</td>\n",
              "      <td>1</td>\n",
              "    </tr>\n",
              "  </tbody>\n",
              "</table>\n",
              "</div>"
            ],
            "text/plain": [
              "   StreamingMovies=No  StreamingMovies=No internet service  StreamingMovies=Yes\n",
              "0                   1                                    0                    0\n",
              "1                   0                                    1                    0\n",
              "2                   0                                    0                    1"
            ]
          },
          "metadata": {
            "tags": []
          },
          "execution_count": 149
        }
      ]
    },
    {
      "cell_type": "markdown",
      "metadata": {
        "id": "leBCELN0iLyI"
      },
      "source": [
        "## Combine data frames\r\n",
        "\r\n",
        "Combine data into a new dataframe containing all expanded columns\r\n",
        "\r\n",
        "\r\n",
        "\r\n",
        "1.   Drop old categorical columns \r\n",
        "2.   Combine original df with new created df \r\n",
        "\r\n"
      ]
    },
    {
      "cell_type": "code",
      "metadata": {
        "colab": {
          "base_uri": "https://localhost:8080/",
          "height": 301
        },
        "id": "dgxTOyyUmpS2",
        "outputId": "3db32fb9-35a9-447d-9cdf-3046e16daea7"
      },
      "source": [
        "df.head()"
      ],
      "execution_count": null,
      "outputs": [
        {
          "output_type": "execute_result",
          "data": {
            "text/html": [
              "<div>\n",
              "<style scoped>\n",
              "    .dataframe tbody tr th:only-of-type {\n",
              "        vertical-align: middle;\n",
              "    }\n",
              "\n",
              "    .dataframe tbody tr th {\n",
              "        vertical-align: top;\n",
              "    }\n",
              "\n",
              "    .dataframe thead th {\n",
              "        text-align: right;\n",
              "    }\n",
              "</style>\n",
              "<table border=\"1\" class=\"dataframe\">\n",
              "  <thead>\n",
              "    <tr style=\"text-align: right;\">\n",
              "      <th></th>\n",
              "      <th>customerID</th>\n",
              "      <th>gender</th>\n",
              "      <th>SeniorCitizen</th>\n",
              "      <th>Partner</th>\n",
              "      <th>Dependents</th>\n",
              "      <th>tenure</th>\n",
              "      <th>PhoneService</th>\n",
              "      <th>MultipleLines</th>\n",
              "      <th>InternetService</th>\n",
              "      <th>OnlineSecurity</th>\n",
              "      <th>OnlineBackup</th>\n",
              "      <th>DeviceProtection</th>\n",
              "      <th>TechSupport</th>\n",
              "      <th>StreamingTV</th>\n",
              "      <th>StreamingMovies</th>\n",
              "      <th>Contract</th>\n",
              "      <th>PaperlessBilling</th>\n",
              "      <th>PaymentMethod</th>\n",
              "      <th>MonthlyCharges</th>\n",
              "      <th>TotalCharges</th>\n",
              "      <th>Churn</th>\n",
              "    </tr>\n",
              "  </thead>\n",
              "  <tbody>\n",
              "    <tr>\n",
              "      <th>0</th>\n",
              "      <td>5087-SUURX</td>\n",
              "      <td>Female</td>\n",
              "      <td>0</td>\n",
              "      <td>1</td>\n",
              "      <td>0</td>\n",
              "      <td>18</td>\n",
              "      <td>0</td>\n",
              "      <td>No phone service</td>\n",
              "      <td>DSL</td>\n",
              "      <td>No</td>\n",
              "      <td>No</td>\n",
              "      <td>Yes</td>\n",
              "      <td>No</td>\n",
              "      <td>Yes</td>\n",
              "      <td>No</td>\n",
              "      <td>Month-to-month</td>\n",
              "      <td>1</td>\n",
              "      <td>Electronic check</td>\n",
              "      <td>39.05</td>\n",
              "      <td>669.85</td>\n",
              "      <td>1</td>\n",
              "    </tr>\n",
              "    <tr>\n",
              "      <th>1</th>\n",
              "      <td>1764-VUUMT</td>\n",
              "      <td>Male</td>\n",
              "      <td>0</td>\n",
              "      <td>0</td>\n",
              "      <td>1</td>\n",
              "      <td>66</td>\n",
              "      <td>1</td>\n",
              "      <td>No</td>\n",
              "      <td>No</td>\n",
              "      <td>No internet service</td>\n",
              "      <td>No internet service</td>\n",
              "      <td>No internet service</td>\n",
              "      <td>No internet service</td>\n",
              "      <td>No internet service</td>\n",
              "      <td>No internet service</td>\n",
              "      <td>Two year</td>\n",
              "      <td>0</td>\n",
              "      <td>Credit card (automatic)</td>\n",
              "      <td>19.95</td>\n",
              "      <td>1269.10</td>\n",
              "      <td>0</td>\n",
              "    </tr>\n",
              "    <tr>\n",
              "      <th>2</th>\n",
              "      <td>0089-IIQKO</td>\n",
              "      <td>Female</td>\n",
              "      <td>0</td>\n",
              "      <td>1</td>\n",
              "      <td>1</td>\n",
              "      <td>39</td>\n",
              "      <td>1</td>\n",
              "      <td>Yes</td>\n",
              "      <td>Fiber optic</td>\n",
              "      <td>No</td>\n",
              "      <td>No</td>\n",
              "      <td>No</td>\n",
              "      <td>Yes</td>\n",
              "      <td>Yes</td>\n",
              "      <td>Yes</td>\n",
              "      <td>Month-to-month</td>\n",
              "      <td>1</td>\n",
              "      <td>Credit card (automatic)</td>\n",
              "      <td>99.95</td>\n",
              "      <td>3767.40</td>\n",
              "      <td>0</td>\n",
              "    </tr>\n",
              "    <tr>\n",
              "      <th>3</th>\n",
              "      <td>1960-UYCNN</td>\n",
              "      <td>Male</td>\n",
              "      <td>0</td>\n",
              "      <td>0</td>\n",
              "      <td>0</td>\n",
              "      <td>10</td>\n",
              "      <td>1</td>\n",
              "      <td>Yes</td>\n",
              "      <td>Fiber optic</td>\n",
              "      <td>No</td>\n",
              "      <td>Yes</td>\n",
              "      <td>Yes</td>\n",
              "      <td>No</td>\n",
              "      <td>No</td>\n",
              "      <td>Yes</td>\n",
              "      <td>Month-to-month</td>\n",
              "      <td>1</td>\n",
              "      <td>Electronic check</td>\n",
              "      <td>95.25</td>\n",
              "      <td>1021.55</td>\n",
              "      <td>0</td>\n",
              "    </tr>\n",
              "    <tr>\n",
              "      <th>4</th>\n",
              "      <td>8224-IVVPA</td>\n",
              "      <td>Female</td>\n",
              "      <td>0</td>\n",
              "      <td>0</td>\n",
              "      <td>0</td>\n",
              "      <td>27</td>\n",
              "      <td>1</td>\n",
              "      <td>No</td>\n",
              "      <td>DSL</td>\n",
              "      <td>Yes</td>\n",
              "      <td>Yes</td>\n",
              "      <td>No</td>\n",
              "      <td>No</td>\n",
              "      <td>No</td>\n",
              "      <td>No</td>\n",
              "      <td>Month-to-month</td>\n",
              "      <td>1</td>\n",
              "      <td>Mailed check</td>\n",
              "      <td>56.70</td>\n",
              "      <td>1652.95</td>\n",
              "      <td>0</td>\n",
              "    </tr>\n",
              "  </tbody>\n",
              "</table>\n",
              "</div>"
            ],
            "text/plain": [
              "   customerID  gender  SeniorCitizen  ...  MonthlyCharges  TotalCharges  Churn\n",
              "0  5087-SUURX  Female              0  ...           39.05        669.85      1\n",
              "1  1764-VUUMT    Male              0  ...           19.95       1269.10      0\n",
              "2  0089-IIQKO  Female              0  ...           99.95       3767.40      0\n",
              "3  1960-UYCNN    Male              0  ...           95.25       1021.55      0\n",
              "4  8224-IVVPA  Female              0  ...           56.70       1652.95      0\n",
              "\n",
              "[5 rows x 21 columns]"
            ]
          },
          "metadata": {
            "tags": []
          },
          "execution_count": 150
        }
      ]
    },
    {
      "cell_type": "code",
      "metadata": {
        "colab": {
          "base_uri": "https://localhost:8080/",
          "height": 137
        },
        "id": "GqKGZwCul99B",
        "outputId": "fecfa1d6-32e3-48f6-8f2e-37b44c495a40"
      },
      "source": [
        "# drop old columns \r\n",
        "df = df.drop(columns=['gender', 'MultipleLines' ,'InternetService','OnlineSecurity' , 'OnlineBackup' ,'DeviceProtection' ,'TechSupport','StreamingTV','StreamingMovies' ,'Contract' ,'PaymentMethod'])\r\n",
        "df.head(3)"
      ],
      "execution_count": null,
      "outputs": [
        {
          "output_type": "execute_result",
          "data": {
            "text/html": [
              "<div>\n",
              "<style scoped>\n",
              "    .dataframe tbody tr th:only-of-type {\n",
              "        vertical-align: middle;\n",
              "    }\n",
              "\n",
              "    .dataframe tbody tr th {\n",
              "        vertical-align: top;\n",
              "    }\n",
              "\n",
              "    .dataframe thead th {\n",
              "        text-align: right;\n",
              "    }\n",
              "</style>\n",
              "<table border=\"1\" class=\"dataframe\">\n",
              "  <thead>\n",
              "    <tr style=\"text-align: right;\">\n",
              "      <th></th>\n",
              "      <th>customerID</th>\n",
              "      <th>SeniorCitizen</th>\n",
              "      <th>Partner</th>\n",
              "      <th>Dependents</th>\n",
              "      <th>tenure</th>\n",
              "      <th>PhoneService</th>\n",
              "      <th>PaperlessBilling</th>\n",
              "      <th>MonthlyCharges</th>\n",
              "      <th>TotalCharges</th>\n",
              "      <th>Churn</th>\n",
              "    </tr>\n",
              "  </thead>\n",
              "  <tbody>\n",
              "    <tr>\n",
              "      <th>0</th>\n",
              "      <td>5087-SUURX</td>\n",
              "      <td>0</td>\n",
              "      <td>1</td>\n",
              "      <td>0</td>\n",
              "      <td>18</td>\n",
              "      <td>0</td>\n",
              "      <td>1</td>\n",
              "      <td>39.05</td>\n",
              "      <td>669.85</td>\n",
              "      <td>1</td>\n",
              "    </tr>\n",
              "    <tr>\n",
              "      <th>1</th>\n",
              "      <td>1764-VUUMT</td>\n",
              "      <td>0</td>\n",
              "      <td>0</td>\n",
              "      <td>1</td>\n",
              "      <td>66</td>\n",
              "      <td>1</td>\n",
              "      <td>0</td>\n",
              "      <td>19.95</td>\n",
              "      <td>1269.10</td>\n",
              "      <td>0</td>\n",
              "    </tr>\n",
              "    <tr>\n",
              "      <th>2</th>\n",
              "      <td>0089-IIQKO</td>\n",
              "      <td>0</td>\n",
              "      <td>1</td>\n",
              "      <td>1</td>\n",
              "      <td>39</td>\n",
              "      <td>1</td>\n",
              "      <td>1</td>\n",
              "      <td>99.95</td>\n",
              "      <td>3767.40</td>\n",
              "      <td>0</td>\n",
              "    </tr>\n",
              "  </tbody>\n",
              "</table>\n",
              "</div>"
            ],
            "text/plain": [
              "   customerID  SeniorCitizen  Partner  ...  MonthlyCharges  TotalCharges  Churn\n",
              "0  5087-SUURX              0        1  ...           39.05        669.85      1\n",
              "1  1764-VUUMT              0        0  ...           19.95       1269.10      0\n",
              "2  0089-IIQKO              0        1  ...           99.95       3767.40      0\n",
              "\n",
              "[3 rows x 10 columns]"
            ]
          },
          "metadata": {
            "tags": []
          },
          "execution_count": 151
        }
      ]
    },
    {
      "cell_type": "code",
      "metadata": {
        "colab": {
          "base_uri": "https://localhost:8080/",
          "height": 224
        },
        "id": "6IFImSwJimGL",
        "outputId": "75f589d0-d8dc-4e3e-9b37-49f5135d5e64"
      },
      "source": [
        "# Combine all df in one new df for ML\r\n",
        "ML_df = pd.concat([df,gender_df , PaymentMethod_df, Contract_df, MultipleLines_df, InternetService_df, OnlineSecurity_df, OnlineBackup_df, DeviceProtection_df, TechSupport_df, StreamingTV_df, StreamingMovies_df], axis=1)\r\n",
        "\r\n",
        "ML_df.head(3)"
      ],
      "execution_count": null,
      "outputs": [
        {
          "output_type": "execute_result",
          "data": {
            "text/html": [
              "<div>\n",
              "<style scoped>\n",
              "    .dataframe tbody tr th:only-of-type {\n",
              "        vertical-align: middle;\n",
              "    }\n",
              "\n",
              "    .dataframe tbody tr th {\n",
              "        vertical-align: top;\n",
              "    }\n",
              "\n",
              "    .dataframe thead th {\n",
              "        text-align: right;\n",
              "    }\n",
              "</style>\n",
              "<table border=\"1\" class=\"dataframe\">\n",
              "  <thead>\n",
              "    <tr style=\"text-align: right;\">\n",
              "      <th></th>\n",
              "      <th>customerID</th>\n",
              "      <th>SeniorCitizen</th>\n",
              "      <th>Partner</th>\n",
              "      <th>Dependents</th>\n",
              "      <th>tenure</th>\n",
              "      <th>PhoneService</th>\n",
              "      <th>PaperlessBilling</th>\n",
              "      <th>MonthlyCharges</th>\n",
              "      <th>TotalCharges</th>\n",
              "      <th>Churn</th>\n",
              "      <th>Female</th>\n",
              "      <th>Male</th>\n",
              "      <th>Bank transfer (automatic)</th>\n",
              "      <th>Credit card (automatic)</th>\n",
              "      <th>Electronic check</th>\n",
              "      <th>Mailed check</th>\n",
              "      <th>Month-to-month</th>\n",
              "      <th>One year</th>\n",
              "      <th>Two year</th>\n",
              "      <th>MultipleLines=No</th>\n",
              "      <th>MultipleLines=No phone service</th>\n",
              "      <th>MultipleLines=Yes</th>\n",
              "      <th>InternetService=DSL</th>\n",
              "      <th>InternetService=Fiber optic</th>\n",
              "      <th>InternetService=No</th>\n",
              "      <th>OnlineSecurity=No</th>\n",
              "      <th>OnlineSecurity=No internet service</th>\n",
              "      <th>OnlineSecurity=Yes</th>\n",
              "      <th>OnlineBackup=No</th>\n",
              "      <th>OnlineBackup=No internet service</th>\n",
              "      <th>OnlineBackup=Yes</th>\n",
              "      <th>DeviceProtection=No</th>\n",
              "      <th>DeviceProtection=No internet service</th>\n",
              "      <th>DeviceProtection=Yes</th>\n",
              "      <th>TechSupport=No</th>\n",
              "      <th>TechSupport=No internet service</th>\n",
              "      <th>TechSupport=Yes</th>\n",
              "      <th>StreamingTV=No</th>\n",
              "      <th>StreamingTV=No internet service</th>\n",
              "      <th>StreamingTV=Yes</th>\n",
              "      <th>StreamingMovies=No</th>\n",
              "      <th>StreamingMovies=No internet service</th>\n",
              "      <th>StreamingMovies=Yes</th>\n",
              "    </tr>\n",
              "  </thead>\n",
              "  <tbody>\n",
              "    <tr>\n",
              "      <th>0</th>\n",
              "      <td>5087-SUURX</td>\n",
              "      <td>0</td>\n",
              "      <td>1</td>\n",
              "      <td>0</td>\n",
              "      <td>18</td>\n",
              "      <td>0</td>\n",
              "      <td>1</td>\n",
              "      <td>39.05</td>\n",
              "      <td>669.85</td>\n",
              "      <td>1</td>\n",
              "      <td>1</td>\n",
              "      <td>0</td>\n",
              "      <td>0</td>\n",
              "      <td>0</td>\n",
              "      <td>1</td>\n",
              "      <td>0</td>\n",
              "      <td>1</td>\n",
              "      <td>0</td>\n",
              "      <td>0</td>\n",
              "      <td>0</td>\n",
              "      <td>1</td>\n",
              "      <td>0</td>\n",
              "      <td>1</td>\n",
              "      <td>0</td>\n",
              "      <td>0</td>\n",
              "      <td>1</td>\n",
              "      <td>0</td>\n",
              "      <td>0</td>\n",
              "      <td>1</td>\n",
              "      <td>0</td>\n",
              "      <td>0</td>\n",
              "      <td>0</td>\n",
              "      <td>0</td>\n",
              "      <td>1</td>\n",
              "      <td>1</td>\n",
              "      <td>0</td>\n",
              "      <td>0</td>\n",
              "      <td>0</td>\n",
              "      <td>0</td>\n",
              "      <td>1</td>\n",
              "      <td>1</td>\n",
              "      <td>0</td>\n",
              "      <td>0</td>\n",
              "    </tr>\n",
              "    <tr>\n",
              "      <th>1</th>\n",
              "      <td>1764-VUUMT</td>\n",
              "      <td>0</td>\n",
              "      <td>0</td>\n",
              "      <td>1</td>\n",
              "      <td>66</td>\n",
              "      <td>1</td>\n",
              "      <td>0</td>\n",
              "      <td>19.95</td>\n",
              "      <td>1269.10</td>\n",
              "      <td>0</td>\n",
              "      <td>0</td>\n",
              "      <td>1</td>\n",
              "      <td>0</td>\n",
              "      <td>1</td>\n",
              "      <td>0</td>\n",
              "      <td>0</td>\n",
              "      <td>0</td>\n",
              "      <td>0</td>\n",
              "      <td>1</td>\n",
              "      <td>1</td>\n",
              "      <td>0</td>\n",
              "      <td>0</td>\n",
              "      <td>0</td>\n",
              "      <td>0</td>\n",
              "      <td>1</td>\n",
              "      <td>0</td>\n",
              "      <td>1</td>\n",
              "      <td>0</td>\n",
              "      <td>0</td>\n",
              "      <td>1</td>\n",
              "      <td>0</td>\n",
              "      <td>0</td>\n",
              "      <td>1</td>\n",
              "      <td>0</td>\n",
              "      <td>0</td>\n",
              "      <td>1</td>\n",
              "      <td>0</td>\n",
              "      <td>0</td>\n",
              "      <td>1</td>\n",
              "      <td>0</td>\n",
              "      <td>0</td>\n",
              "      <td>1</td>\n",
              "      <td>0</td>\n",
              "    </tr>\n",
              "    <tr>\n",
              "      <th>2</th>\n",
              "      <td>0089-IIQKO</td>\n",
              "      <td>0</td>\n",
              "      <td>1</td>\n",
              "      <td>1</td>\n",
              "      <td>39</td>\n",
              "      <td>1</td>\n",
              "      <td>1</td>\n",
              "      <td>99.95</td>\n",
              "      <td>3767.40</td>\n",
              "      <td>0</td>\n",
              "      <td>1</td>\n",
              "      <td>0</td>\n",
              "      <td>0</td>\n",
              "      <td>1</td>\n",
              "      <td>0</td>\n",
              "      <td>0</td>\n",
              "      <td>1</td>\n",
              "      <td>0</td>\n",
              "      <td>0</td>\n",
              "      <td>0</td>\n",
              "      <td>0</td>\n",
              "      <td>1</td>\n",
              "      <td>0</td>\n",
              "      <td>1</td>\n",
              "      <td>0</td>\n",
              "      <td>1</td>\n",
              "      <td>0</td>\n",
              "      <td>0</td>\n",
              "      <td>1</td>\n",
              "      <td>0</td>\n",
              "      <td>0</td>\n",
              "      <td>1</td>\n",
              "      <td>0</td>\n",
              "      <td>0</td>\n",
              "      <td>0</td>\n",
              "      <td>0</td>\n",
              "      <td>1</td>\n",
              "      <td>0</td>\n",
              "      <td>0</td>\n",
              "      <td>1</td>\n",
              "      <td>0</td>\n",
              "      <td>0</td>\n",
              "      <td>1</td>\n",
              "    </tr>\n",
              "  </tbody>\n",
              "</table>\n",
              "</div>"
            ],
            "text/plain": [
              "   customerID  ...  StreamingMovies=Yes\n",
              "0  5087-SUURX  ...                    0\n",
              "1  1764-VUUMT  ...                    0\n",
              "2  0089-IIQKO  ...                    1\n",
              "\n",
              "[3 rows x 43 columns]"
            ]
          },
          "metadata": {
            "tags": []
          },
          "execution_count": 152
        }
      ]
    },
    {
      "cell_type": "code",
      "metadata": {
        "colab": {
          "base_uri": "https://localhost:8080/"
        },
        "id": "Ge_slkmRn1JW",
        "outputId": "89fcf8b9-3eaa-49dc-8ccd-20de07cc9991"
      },
      "source": [
        "# New df dimension \r\n",
        "ML_df.shape"
      ],
      "execution_count": null,
      "outputs": [
        {
          "output_type": "execute_result",
          "data": {
            "text/plain": [
              "(6338, 43)"
            ]
          },
          "metadata": {
            "tags": []
          },
          "execution_count": 153
        }
      ]
    },
    {
      "cell_type": "code",
      "metadata": {
        "colab": {
          "base_uri": "https://localhost:8080/"
        },
        "id": "ruF661KioHH2",
        "outputId": "72b03ded-73f1-4155-f7f8-fafc3202f60c"
      },
      "source": [
        "# Check columns types\r\n",
        "ML_df.info()"
      ],
      "execution_count": null,
      "outputs": [
        {
          "output_type": "stream",
          "text": [
            "<class 'pandas.core.frame.DataFrame'>\n",
            "RangeIndex: 6338 entries, 0 to 6337\n",
            "Data columns (total 43 columns):\n",
            " #   Column                                Non-Null Count  Dtype  \n",
            "---  ------                                --------------  -----  \n",
            " 0   customerID                            6338 non-null   object \n",
            " 1   SeniorCitizen                         6338 non-null   int64  \n",
            " 2   Partner                               6338 non-null   int64  \n",
            " 3   Dependents                            6338 non-null   int64  \n",
            " 4   tenure                                6338 non-null   int64  \n",
            " 5   PhoneService                          6338 non-null   int64  \n",
            " 6   PaperlessBilling                      6338 non-null   int64  \n",
            " 7   MonthlyCharges                        6338 non-null   float64\n",
            " 8   TotalCharges                          6338 non-null   float64\n",
            " 9   Churn                                 6338 non-null   int64  \n",
            " 10  Female                                6338 non-null   uint8  \n",
            " 11  Male                                  6338 non-null   uint8  \n",
            " 12  Bank transfer (automatic)             6338 non-null   uint8  \n",
            " 13  Credit card (automatic)               6338 non-null   uint8  \n",
            " 14  Electronic check                      6338 non-null   uint8  \n",
            " 15  Mailed check                          6338 non-null   uint8  \n",
            " 16  Month-to-month                        6338 non-null   uint8  \n",
            " 17  One year                              6338 non-null   uint8  \n",
            " 18  Two year                              6338 non-null   uint8  \n",
            " 19  MultipleLines=No                      6338 non-null   int64  \n",
            " 20  MultipleLines=No phone service        6338 non-null   int64  \n",
            " 21  MultipleLines=Yes                     6338 non-null   int64  \n",
            " 22  InternetService=DSL                   6338 non-null   int64  \n",
            " 23  InternetService=Fiber optic           6338 non-null   int64  \n",
            " 24  InternetService=No                    6338 non-null   int64  \n",
            " 25  OnlineSecurity=No                     6338 non-null   int64  \n",
            " 26  OnlineSecurity=No internet service    6338 non-null   int64  \n",
            " 27  OnlineSecurity=Yes                    6338 non-null   int64  \n",
            " 28  OnlineBackup=No                       6338 non-null   int64  \n",
            " 29  OnlineBackup=No internet service      6338 non-null   int64  \n",
            " 30  OnlineBackup=Yes                      6338 non-null   int64  \n",
            " 31  DeviceProtection=No                   6338 non-null   int64  \n",
            " 32  DeviceProtection=No internet service  6338 non-null   int64  \n",
            " 33  DeviceProtection=Yes                  6338 non-null   int64  \n",
            " 34  TechSupport=No                        6338 non-null   int64  \n",
            " 35  TechSupport=No internet service       6338 non-null   int64  \n",
            " 36  TechSupport=Yes                       6338 non-null   int64  \n",
            " 37  StreamingTV=No                        6338 non-null   int64  \n",
            " 38  StreamingTV=No internet service       6338 non-null   int64  \n",
            " 39  StreamingTV=Yes                       6338 non-null   int64  \n",
            " 40  StreamingMovies=No                    6338 non-null   int64  \n",
            " 41  StreamingMovies=No internet service   6338 non-null   int64  \n",
            " 42  StreamingMovies=Yes                   6338 non-null   int64  \n",
            "dtypes: float64(2), int64(31), object(1), uint8(9)\n",
            "memory usage: 1.7+ MB\n"
          ],
          "name": "stdout"
        }
      ]
    },
    {
      "cell_type": "markdown",
      "metadata": {
        "id": "S8avNLdknobX"
      },
      "source": [
        "Now all columns values are numeric so I can apply ML Model"
      ]
    },
    {
      "cell_type": "markdown",
      "metadata": {
        "id": "ZLkVa2lIIr86"
      },
      "source": [
        "## **Setting up a simple Logistic Regression**\r\n",
        "\r\n",
        "[Sklearn docs - LogisticRegression](https://scikit-learn.org/stable/modules/generated/sklearn.linear_model.LogisticRegression.html)"
      ]
    },
    {
      "cell_type": "code",
      "metadata": {
        "id": "o3prpLagHKif"
      },
      "source": [
        "from sklearn.linear_model import LogisticRegression\r\n",
        "\r\n",
        "lr = LogisticRegression()"
      ],
      "execution_count": null,
      "outputs": []
    },
    {
      "cell_type": "markdown",
      "metadata": {
        "id": "JopG90aHI5tq"
      },
      "source": [
        "Define a very simple `X` and `y`...\r\n",
        "\r\n",
        "- `X` is / are your varible(s) that will help predict `y`\r\n",
        "- `y` is your \"target\" (what you're trying to predict)"
      ]
    },
    {
      "cell_type": "markdown",
      "metadata": {
        "id": "3aw9O7i9D4u2"
      },
      "source": [
        "### Split the data into training and testing sets"
      ]
    },
    {
      "cell_type": "code",
      "metadata": {
        "id": "9pPHLMhuD0Ar"
      },
      "source": [
        "# split data\r\n",
        "from sklearn.model_selection import train_test_split\r\n",
        "X = ML_df.drop(['Churn', 'customerID'], axis=1)\r\n",
        "y = df['Churn']\r\n",
        "\r\n",
        "X_train, X_test, y_train, y_test = train_test_split(X, y, train_size=0.7)"
      ],
      "execution_count": null,
      "outputs": []
    },
    {
      "cell_type": "markdown",
      "metadata": {
        "id": "g-c-PSNkJyMr"
      },
      "source": [
        "Fit the model...\r\n",
        "\r\n",
        "Note: I skipped a step in setting up the data..."
      ]
    },
    {
      "cell_type": "markdown",
      "metadata": {
        "id": "BPlnf3OuFWp1"
      },
      "source": [
        "### Fit a simple logistic regression model"
      ]
    },
    {
      "cell_type": "code",
      "metadata": {
        "colab": {
          "base_uri": "https://localhost:8080/"
        },
        "id": "yMthKadDJsxb",
        "outputId": "cba19fda-7de2-4ced-ca4a-99a16b141ae5"
      },
      "source": [
        "lr.fit(X_train, y_train)"
      ],
      "execution_count": null,
      "outputs": [
        {
          "output_type": "stream",
          "text": [
            "/usr/local/lib/python3.6/dist-packages/sklearn/linear_model/_logistic.py:940: ConvergenceWarning: lbfgs failed to converge (status=1):\n",
            "STOP: TOTAL NO. of ITERATIONS REACHED LIMIT.\n",
            "\n",
            "Increase the number of iterations (max_iter) or scale the data as shown in:\n",
            "    https://scikit-learn.org/stable/modules/preprocessing.html\n",
            "Please also refer to the documentation for alternative solver options:\n",
            "    https://scikit-learn.org/stable/modules/linear_model.html#logistic-regression\n",
            "  extra_warning_msg=_LOGISTIC_SOLVER_CONVERGENCE_MSG)\n"
          ],
          "name": "stderr"
        },
        {
          "output_type": "execute_result",
          "data": {
            "text/plain": [
              "LogisticRegression(C=1.0, class_weight=None, dual=False, fit_intercept=True,\n",
              "                   intercept_scaling=1, l1_ratio=None, max_iter=100,\n",
              "                   multi_class='auto', n_jobs=None, penalty='l2',\n",
              "                   random_state=None, solver='lbfgs', tol=0.0001, verbose=0,\n",
              "                   warm_start=False)"
            ]
          },
          "metadata": {
            "tags": []
          },
          "execution_count": 157
        }
      ]
    },
    {
      "cell_type": "markdown",
      "metadata": {
        "id": "RLXf6qDHKM7Y"
      },
      "source": [
        "Make predictions..."
      ]
    },
    {
      "cell_type": "markdown",
      "metadata": {
        "id": "tMTjXxSyKye9"
      },
      "source": [
        "### Prediction"
      ]
    },
    {
      "cell_type": "code",
      "metadata": {
        "colab": {
          "base_uri": "https://localhost:8080/"
        },
        "id": "viqllFppJ3wT",
        "outputId": "c659f5b1-ead9-49d1-8806-c022d986f0c1"
      },
      "source": [
        "lr.predict(X_test)"
      ],
      "execution_count": null,
      "outputs": [
        {
          "output_type": "execute_result",
          "data": {
            "text/plain": [
              "array([0, 1, 0, ..., 0, 1, 1])"
            ]
          },
          "metadata": {
            "tags": []
          },
          "execution_count": 158
        }
      ]
    },
    {
      "cell_type": "code",
      "metadata": {
        "id": "vWqEm0izLGnd"
      },
      "source": [
        "# save to var\r\n",
        "preds = lr.predict(X_test)"
      ],
      "execution_count": null,
      "outputs": []
    },
    {
      "cell_type": "markdown",
      "metadata": {
        "id": "DSUhlWHxKUb7"
      },
      "source": [
        "From here you'd...\r\n",
        "\r\n",
        "1. Figure our your precision, recall, score, etc..\r\n",
        "2. Make it into a pipeline... ([Docs Help](https://scikit-learn.org/stable/modules/generated/sklearn.pipeline.make_pipeline.html) | [Basic Skeleton Code Help](https://github.com/gumdropsteve/intro_to_machine_learning/blob/main/day_03/02_assignment.ipynb))\r\n",
        "3. Figure out your best hyperparams (GridSearchCV)...\r\n",
        "4. Make that model...\r\n",
        "5. ..."
      ]
    },
    {
      "cell_type": "markdown",
      "metadata": {
        "id": "W1Q_cB1qK9i4"
      },
      "source": [
        "##  **precision, recall, score**"
      ]
    },
    {
      "cell_type": "markdown",
      "metadata": {
        "id": "6mBOYG3zLWHG"
      },
      "source": [
        "### Precision"
      ]
    },
    {
      "cell_type": "code",
      "metadata": {
        "id": "cp5yX4rbK8m9",
        "colab": {
          "base_uri": "https://localhost:8080/"
        },
        "outputId": "d16b8f4d-1fb1-4fc1-d60d-c63846862f05"
      },
      "source": [
        "from sklearn.metrics import precision_score\r\n",
        "precision_score(y_test, preds)"
      ],
      "execution_count": null,
      "outputs": [
        {
          "output_type": "execute_result",
          "data": {
            "text/plain": [
              "0.7004608294930875"
            ]
          },
          "metadata": {
            "tags": []
          },
          "execution_count": 160
        }
      ]
    },
    {
      "cell_type": "markdown",
      "metadata": {
        "id": "chIThE2CLayO"
      },
      "source": [
        "### Recall"
      ]
    },
    {
      "cell_type": "code",
      "metadata": {
        "id": "7QAAv8woLR4g",
        "colab": {
          "base_uri": "https://localhost:8080/"
        },
        "outputId": "cc0f76c9-2aec-4ea7-bb21-bdf256a8bd99"
      },
      "source": [
        "from sklearn.metrics import recall_score\r\n",
        "recall_score(y_test, preds)"
      ],
      "execution_count": null,
      "outputs": [
        {
          "output_type": "execute_result",
          "data": {
            "text/plain": [
              "0.579047619047619"
            ]
          },
          "metadata": {
            "tags": []
          },
          "execution_count": 161
        }
      ]
    },
    {
      "cell_type": "markdown",
      "metadata": {
        "id": "qTbI7LYOLgAZ"
      },
      "source": [
        "### MSE"
      ]
    },
    {
      "cell_type": "code",
      "metadata": {
        "id": "ZwaqpQVtLgMf",
        "colab": {
          "base_uri": "https://localhost:8080/"
        },
        "outputId": "9c665ecd-5dbf-421b-f8e8-de0b8d4379f2"
      },
      "source": [
        "from sklearn.metrics import mean_squared_error\r\n",
        "mean_squared_error(y_test, preds)"
      ],
      "execution_count": null,
      "outputs": [
        {
          "output_type": "execute_result",
          "data": {
            "text/plain": [
              "0.18454258675078863"
            ]
          },
          "metadata": {
            "tags": []
          },
          "execution_count": 162
        }
      ]
    },
    {
      "cell_type": "markdown",
      "metadata": {
        "id": "HMLk-OQnL0iz"
      },
      "source": [
        "## **Pipeline**"
      ]
    },
    {
      "cell_type": "code",
      "metadata": {
        "id": "Y-XiOxDAL3cy"
      },
      "source": [
        "from sklearn.pipeline import make_pipeline\r\n",
        "\r\n",
        "def LR(**kwargs):\r\n",
        "    return make_pipeline(LogisticRegression(**kwargs))"
      ],
      "execution_count": null,
      "outputs": []
    },
    {
      "cell_type": "code",
      "metadata": {
        "id": "shHuzmrrL9e0"
      },
      "source": [
        "from sklearn.model_selection import GridSearchCV\r\n",
        "param_grid = { 'logisticregression__solver' : ['lbfgs', 'liblinear'],\r\n",
        "               'logisticregression__penalty': ['none', 'l1', 'l2', 'elasticnet'],\r\n",
        "               'logisticregression__C'      : [1e-5, 1e-4, 1e-3, 1e-2, 1e-1, 1, 10, 100],\r\n",
        "               'logisticregression__multi_class': ['auto', 'ovr', 'multinomial']\r\n",
        "             } \r\n",
        "grid = GridSearchCV(LR(), param_grid, cv=7)"
      ],
      "execution_count": null,
      "outputs": []
    },
    {
      "cell_type": "code",
      "metadata": {
        "id": "KWr6y3qMMBhF"
      },
      "source": [
        "# fit the grid\r\n",
        "grid.fit(X, y)"
      ],
      "execution_count": null,
      "outputs": []
    },
    {
      "cell_type": "code",
      "metadata": {
        "id": "GWVhwaxyMCbd",
        "colab": {
          "base_uri": "https://localhost:8080/"
        },
        "outputId": "83b40c19-a4fb-4505-ae0a-708b4bcf8479"
      },
      "source": [
        "# show best params\r\n",
        "print('Best Hyperparameters:')\r\n",
        "grid.best_params_"
      ],
      "execution_count": null,
      "outputs": [
        {
          "output_type": "stream",
          "text": [
            "Best Hyperparameters:\n"
          ],
          "name": "stdout"
        },
        {
          "output_type": "execute_result",
          "data": {
            "text/plain": [
              "{'logisticregression__C': 0.1,\n",
              " 'logisticregression__multi_class': 'auto',\n",
              " 'logisticregression__penalty': 'l2',\n",
              " 'logisticregression__solver': 'lbfgs'}"
            ]
          },
          "metadata": {
            "tags": []
          },
          "execution_count": 166
        }
      ]
    },
    {
      "cell_type": "code",
      "metadata": {
        "id": "XikNVshDMBjr",
        "colab": {
          "base_uri": "https://localhost:8080/"
        },
        "outputId": "d4e4b1f5-c084-4328-f00b-fcedf023ac70"
      },
      "source": [
        "# find r2score\r\n",
        "from sklearn.metrics import r2_score\r\n",
        "r2_score(y_true=y_test, y_pred=preds)"
      ],
      "execution_count": null,
      "outputs": [
        {
          "output_type": "execute_result",
          "data": {
            "text/plain": [
              "0.07652661064425736"
            ]
          },
          "metadata": {
            "tags": []
          },
          "execution_count": 167
        }
      ]
    },
    {
      "cell_type": "code",
      "metadata": {
        "id": "HP94wE0OSAsg",
        "colab": {
          "base_uri": "https://localhost:8080/"
        },
        "outputId": "9319016f-3824-4a11-cc8c-427697695e4e"
      },
      "source": [
        "from sklearn.metrics import confusion_matrix\r\n",
        "# also use confusion matrix to see prediction results/preformance \r\n",
        "logconfusion_matrix = confusion_matrix(y_test, preds)\r\n",
        "print(logconfusion_matrix)"
      ],
      "execution_count": null,
      "outputs": [
        {
          "output_type": "stream",
          "text": [
            "[[1247  130]\n",
            " [ 221  304]]\n"
          ],
          "name": "stdout"
        }
      ]
    },
    {
      "cell_type": "code",
      "metadata": {
        "id": "Mt3H8DNUSrzJ",
        "colab": {
          "base_uri": "https://localhost:8080/"
        },
        "outputId": "aacfaefb-5931-4f92-b6d7-6efc12b28703"
      },
      "source": [
        "from sklearn.metrics import classification_report\r\n",
        "\r\n",
        "# check the result by having classification report for model\r\n",
        "print(classification_report(y_test,preds)) # acuracy is 93%"
      ],
      "execution_count": null,
      "outputs": [
        {
          "output_type": "stream",
          "text": [
            "              precision    recall  f1-score   support\n",
            "\n",
            "           0       0.85      0.91      0.88      1377\n",
            "           1       0.70      0.58      0.63       525\n",
            "\n",
            "    accuracy                           0.82      1902\n",
            "   macro avg       0.77      0.74      0.76      1902\n",
            "weighted avg       0.81      0.82      0.81      1902\n",
            "\n"
          ],
          "name": "stdout"
        }
      ]
    },
    {
      "cell_type": "markdown",
      "metadata": {
        "id": "kTLER-9dyJ0D"
      },
      "source": [
        "#### **For this model the best parameters is the default so no need to change model parameters**"
      ]
    },
    {
      "cell_type": "markdown",
      "metadata": {
        "id": "nvRz9Tj6lZV1"
      },
      "source": [
        "## **Redo model with new hyperparameters**\r\n",
        "\r\n",
        "Just to check if change the parameters values will affect the model "
      ]
    },
    {
      "cell_type": "code",
      "metadata": {
        "colab": {
          "base_uri": "https://localhost:8080/"
        },
        "id": "_Q4L8EpFlYpZ",
        "outputId": "1f047446-0654-4c39-f0d4-bdd6ae51f4dc"
      },
      "source": [
        "# default paramters is also best parameters for this model\r\n",
        "# lr = LogisticRegression(C=0.1, multi_class='auto', penalty='l2', solver='lbfgs')\r\n",
        "\r\n",
        "lr2 = LogisticRegression(C=0.5, multi_class='multinomial', penalty='l1', solver='saga')\r\n",
        "\r\n",
        "lr.fit(X_train, y_train)\r\n",
        "preds2 = lr.predict(X_test)"
      ],
      "execution_count": null,
      "outputs": [
        {
          "output_type": "stream",
          "text": [
            "/usr/local/lib/python3.6/dist-packages/sklearn/linear_model/_logistic.py:940: ConvergenceWarning: lbfgs failed to converge (status=1):\n",
            "STOP: TOTAL NO. of ITERATIONS REACHED LIMIT.\n",
            "\n",
            "Increase the number of iterations (max_iter) or scale the data as shown in:\n",
            "    https://scikit-learn.org/stable/modules/preprocessing.html\n",
            "Please also refer to the documentation for alternative solver options:\n",
            "    https://scikit-learn.org/stable/modules/linear_model.html#logistic-regression\n",
            "  extra_warning_msg=_LOGISTIC_SOLVER_CONVERGENCE_MSG)\n"
          ],
          "name": "stderr"
        }
      ]
    },
    {
      "cell_type": "code",
      "metadata": {
        "colab": {
          "base_uri": "https://localhost:8080/"
        },
        "id": "x425-WAQv0_2",
        "outputId": "e78b6287-bf50-4e07-c9d4-77690778b1e0"
      },
      "source": [
        "logconfusion_matrix = confusion_matrix(y_test, preds2)\r\n",
        "print(logconfusion_matrix)"
      ],
      "execution_count": null,
      "outputs": [
        {
          "output_type": "stream",
          "text": [
            "[[1247  130]\n",
            " [ 221  304]]\n"
          ],
          "name": "stdout"
        }
      ]
    },
    {
      "cell_type": "code",
      "metadata": {
        "colab": {
          "base_uri": "https://localhost:8080/"
        },
        "id": "sHyfGLc1yC9i",
        "outputId": "976e7a02-d4c1-4031-d89d-881b57f48a37"
      },
      "source": [
        "from sklearn.metrics import classification_report\r\n",
        "\r\n",
        "# check the result by having classification report for model\r\n",
        "print(classification_report(y_test,preds)) # acuracy is 93%"
      ],
      "execution_count": null,
      "outputs": [
        {
          "output_type": "stream",
          "text": [
            "              precision    recall  f1-score   support\n",
            "\n",
            "           0       0.85      0.91      0.88      1377\n",
            "           1       0.70      0.58      0.63       525\n",
            "\n",
            "    accuracy                           0.82      1902\n",
            "   macro avg       0.77      0.74      0.76      1902\n",
            "weighted avg       0.81      0.82      0.81      1902\n",
            "\n"
          ],
          "name": "stdout"
        }
      ]
    },
    {
      "cell_type": "markdown",
      "metadata": {
        "id": "ztls6WU4yxzX"
      },
      "source": [
        "Even after change parameters the result didn't change that much so no need to change it \r\n",
        "\r\n",
        "Use best parameters that found by grid search"
      ]
    }
  ]
}